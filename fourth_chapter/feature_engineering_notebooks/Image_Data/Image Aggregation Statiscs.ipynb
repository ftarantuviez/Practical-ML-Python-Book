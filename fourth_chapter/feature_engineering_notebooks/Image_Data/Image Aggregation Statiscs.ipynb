{
 "cells": [
  {
   "cell_type": "code",
   "execution_count": 10,
   "metadata": {},
   "outputs": [],
   "source": [
    "import numpy as np\n",
    "import pandas as pd\n",
    "from scipy.stats import describe\n",
    "\n",
    "import skimage\n",
    "from skimage import io"
   ]
  },
  {
   "cell_type": "code",
   "execution_count": 11,
   "metadata": {},
   "outputs": [],
   "source": [
    "cat = io.imread(\"../../datasets/cat.png\")\n",
    "dog = io.imread(\"../../datasets/dog.png\")"
   ]
  },
  {
   "cell_type": "code",
   "execution_count": 12,
   "metadata": {},
   "outputs": [
    {
     "data": {
      "text/html": [
       "<div>\n",
       "<style scoped>\n",
       "    .dataframe tbody tr th:only-of-type {\n",
       "        vertical-align: middle;\n",
       "    }\n",
       "\n",
       "    .dataframe tbody tr th {\n",
       "        vertical-align: top;\n",
       "    }\n",
       "\n",
       "    .dataframe thead th {\n",
       "        text-align: right;\n",
       "    }\n",
       "</style>\n",
       "<table border=\"1\" class=\"dataframe\">\n",
       "  <thead>\n",
       "    <tr style=\"text-align: right;\">\n",
       "      <th></th>\n",
       "      <th>R_range</th>\n",
       "      <th>G_range</th>\n",
       "      <th>B_range</th>\n",
       "    </tr>\n",
       "  </thead>\n",
       "  <tbody>\n",
       "    <tr>\n",
       "      <th>Cat</th>\n",
       "      <td>240</td>\n",
       "      <td>223</td>\n",
       "      <td>235</td>\n",
       "    </tr>\n",
       "    <tr>\n",
       "      <th>Dog</th>\n",
       "      <td>246</td>\n",
       "      <td>250</td>\n",
       "      <td>246</td>\n",
       "    </tr>\n",
       "  </tbody>\n",
       "</table>\n",
       "</div>"
      ],
      "text/plain": [
       "     R_range  G_range  B_range\n",
       "Cat      240      223      235\n",
       "Dog      246      250      246"
      ]
     },
     "execution_count": 12,
     "metadata": {},
     "output_type": "execute_result"
    }
   ],
   "source": [
    "cat_rgb = cat.reshape((168*300), 3).T\n",
    "dog_rgb = dog.reshape((168*300), 3).T\n",
    "\n",
    "cs = describe(cat_rgb, axis=1)\n",
    "ds = describe(dog_rgb, axis=1)\n",
    "\n",
    "cat_rgb_range = cs.minmax[1] - cs.minmax[0]\n",
    "dog_rgb_range = ds.minmax[1] - ds.minmax[0]\n",
    "rgb_range_df = pd.DataFrame([cat_rgb_range, dog_rgb_range], columns=[\"R_range\", \"G_range\", \"B_range\"], index=[\"Cat\", \"Dog\"])\n",
    "rgb_range_df"
   ]
  },
  {
   "cell_type": "code",
   "execution_count": 19,
   "metadata": {},
   "outputs": [
    {
     "data": {
      "text/html": [
       "<div>\n",
       "<style scoped>\n",
       "    .dataframe tbody tr th:only-of-type {\n",
       "        vertical-align: middle;\n",
       "    }\n",
       "\n",
       "    .dataframe tbody tr th {\n",
       "        vertical-align: top;\n",
       "    }\n",
       "\n",
       "    .dataframe thead th {\n",
       "        text-align: right;\n",
       "    }\n",
       "</style>\n",
       "<table border=\"1\" class=\"dataframe\">\n",
       "  <thead>\n",
       "    <tr style=\"text-align: right;\">\n",
       "      <th></th>\n",
       "      <th>R_mean</th>\n",
       "      <th>G_mean</th>\n",
       "      <th>B_mean</th>\n",
       "      <th>R_var</th>\n",
       "      <th>G_var</th>\n",
       "      <th>B_var</th>\n",
       "      <th>R_kurt</th>\n",
       "      <th>G_kurt</th>\n",
       "      <th>B_kurt</th>\n",
       "      <th>R_skew</th>\n",
       "      <th>G_skew</th>\n",
       "      <th>B_skew</th>\n",
       "      <th>R_med</th>\n",
       "      <th>G_med</th>\n",
       "      <th>B_med</th>\n",
       "    </tr>\n",
       "  </thead>\n",
       "  <tbody>\n",
       "    <tr>\n",
       "      <th>0</th>\n",
       "      <td>127.48</td>\n",
       "      <td>118.80</td>\n",
       "      <td>111.94</td>\n",
       "      <td>3054.04</td>\n",
       "      <td>2863.78</td>\n",
       "      <td>3003.05</td>\n",
       "      <td>-0.63</td>\n",
       "      <td>-0.77</td>\n",
       "      <td>-0.94</td>\n",
       "      <td>-0.48</td>\n",
       "      <td>-0.50</td>\n",
       "      <td>-0.25</td>\n",
       "      <td>140.0</td>\n",
       "      <td>132.0</td>\n",
       "      <td>120.0</td>\n",
       "    </tr>\n",
       "    <tr>\n",
       "      <th>1</th>\n",
       "      <td>184.46</td>\n",
       "      <td>173.46</td>\n",
       "      <td>160.77</td>\n",
       "      <td>1887.71</td>\n",
       "      <td>1776.00</td>\n",
       "      <td>1574.73</td>\n",
       "      <td>1.30</td>\n",
       "      <td>2.24</td>\n",
       "      <td>2.32</td>\n",
       "      <td>-0.96</td>\n",
       "      <td>-1.12</td>\n",
       "      <td>-1.09</td>\n",
       "      <td>185.0</td>\n",
       "      <td>169.0</td>\n",
       "      <td>165.0</td>\n",
       "    </tr>\n",
       "  </tbody>\n",
       "</table>\n",
       "</div>"
      ],
      "text/plain": [
       "   R_mean  G_mean  B_mean    R_var    G_var    B_var  R_kurt  G_kurt  B_kurt  \\\n",
       "0  127.48  118.80  111.94  3054.04  2863.78  3003.05   -0.63   -0.77   -0.94   \n",
       "1  184.46  173.46  160.77  1887.71  1776.00  1574.73    1.30    2.24    2.32   \n",
       "\n",
       "   R_skew  G_skew  B_skew  R_med  G_med  B_med  \n",
       "0   -0.48   -0.50   -0.25  140.0  132.0  120.0  \n",
       "1   -0.96   -1.12   -1.09  185.0  169.0  165.0  "
      ]
     },
     "execution_count": 19,
     "metadata": {},
     "output_type": "execute_result"
    }
   ],
   "source": [
    "cat_stats = np.array([np.round(cs.mean, 2), np.round(cs.variance, 2), \n",
    "                      np.round(cs.kurtosis, 2), np.round(cs.skewness, 2),\n",
    "                      np.round(np.median(cat_rgb, axis=1), 2)\n",
    "                     ]).flatten()\n",
    "dog_stats = np.array([np.round(ds.mean, 2), np.round(ds.variance, 2), \n",
    "                      np.round(ds.kurtosis, 2), np.round(ds.skewness, 2),\n",
    "                      np.round(np.median(dog_rgb, axis=1), 2)\n",
    "                     ]).flatten()\n",
    "\n",
    "\n",
    "pd.DataFrame([cat_stats, dog_stats], columns=[\n",
    "                                              \"R_mean\", \"G_mean\", \"B_mean\",\n",
    "                                              \"R_var\", \"G_var\", \"B_var\",\n",
    "                                              \"R_kurt\", \"G_kurt\", \"B_kurt\",\n",
    "                                              \"R_skew\", \"G_skew\", \"B_skew\",\n",
    "                                              \"R_med\", \"G_med\", \"B_med\"\n",
    "                                             ])"
   ]
  }
 ],
 "metadata": {
  "kernelspec": {
   "display_name": "Python 3",
   "language": "python",
   "name": "python3"
  },
  "language_info": {
   "codemirror_mode": {
    "name": "ipython",
    "version": 3
   },
   "file_extension": ".py",
   "mimetype": "text/x-python",
   "name": "python",
   "nbconvert_exporter": "python",
   "pygments_lexer": "ipython3",
   "version": "3.8.3"
  }
 },
 "nbformat": 4,
 "nbformat_minor": 4
}
