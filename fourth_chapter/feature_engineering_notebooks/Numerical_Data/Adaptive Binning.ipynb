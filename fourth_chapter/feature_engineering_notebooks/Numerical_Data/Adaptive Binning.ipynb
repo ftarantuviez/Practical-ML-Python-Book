{
 "cells": [
  {
   "cell_type": "code",
   "execution_count": 2,
   "metadata": {},
   "outputs": [],
   "source": [
    "import pandas as pd\n",
    "import numpy as np\n",
    "import matplotlib.pyplot as plt"
   ]
  },
  {
   "cell_type": "markdown",
   "metadata": {},
   "source": [
    "# Adaptive Binning\n",
    "\n",
    "This approach is better cause the ranges of the bins are asign according the values distribution."
   ]
  },
  {
   "cell_type": "code",
   "execution_count": 3,
   "metadata": {},
   "outputs": [],
   "source": [
    "df = pd.read_csv(\"../../datasets/fcc_2016_coder_survey_subset.csv\")"
   ]
  },
  {
   "cell_type": "code",
   "execution_count": 6,
   "metadata": {},
   "outputs": [
    {
     "data": {
      "text/plain": [
       "Text(0.5, 0, 'Income')"
      ]
     },
     "execution_count": 6,
     "metadata": {},
     "output_type": "execute_result"
    },
    {
     "data": {
      "image/png": "[encoded data removed]",
      "text/plain": [
       "<Figure size 432x288 with 1 Axes>"
      ]
     },
     "metadata": {
      "needs_background": "light"
     },
     "output_type": "display_data"
    }
   ],
   "source": [
    "fig, ax = plt.subplots()\n",
    "df[\"Income\"].hist(bins=30, color=\"#3CAA00\")\n",
    "ax.set_title(\"Income Frequency\")\n",
    "ax.set_ylabel(\"Frequency\")\n",
    "ax.set_xlabel(\"Income\")"
   ]
  },
  {
   "cell_type": "code",
   "execution_count": 7,
   "metadata": {},
   "outputs": [
    {
     "data": {
      "text/plain": [
       "0.00      6000.0\n",
       "0.25     20000.0\n",
       "0.50     37000.0\n",
       "0.75     60000.0\n",
       "1.00    200000.0\n",
       "Name: Income, dtype: float64"
      ]
     },
     "execution_count": 7,
     "metadata": {},
     "output_type": "execute_result"
    }
   ],
   "source": [
    "quantile_list = [0, .25, .50, .75, 1.]\n",
    "quantiles = df[\"Income\"].quantile(quantile_list)\n",
    "quantiles"
   ]
  },
  {
   "cell_type": "code",
   "execution_count": 8,
   "metadata": {},
   "outputs": [
    {
     "data": {
      "text/plain": [
       "Text(0.5, 0, 'Income')"
      ]
     },
     "execution_count": 8,
     "metadata": {},
     "output_type": "execute_result"
    },
    {
     "data": {
      "image/png": "[encoded data removed]",
      "text/plain": [
       "<Figure size 432x288 with 1 Axes>"
      ]
     },
     "metadata": {
      "needs_background": "light"
     },
     "output_type": "display_data"
    }
   ],
   "source": [
    "fig, ax = plt.subplots()\n",
    "df[\"Income\"].hist(bins=30, color=\"#3CAA00\")\n",
    "\n",
    "for quantile in quantiles:\n",
    "    qvl = plt.axvline(quantile, color=\"r\")\n",
    "ax.legend([qvl], [\"Quantiles\"], fontsize=10)\n",
    "ax.set_title(\"Income Frequency\")\n",
    "ax.set_ylabel(\"Frequency\")\n",
    "ax.set_xlabel(\"Income\")"
   ]
  },
  {
   "cell_type": "code",
   "execution_count": 11,
   "metadata": {},
   "outputs": [
    {
     "data": {
      "text/html": [
       "<div>\n",
       "<style scoped>\n",
       "    .dataframe tbody tr th:only-of-type {\n",
       "        vertical-align: middle;\n",
       "    }\n",
       "\n",
       "    .dataframe tbody tr th {\n",
       "        vertical-align: top;\n",
       "    }\n",
       "\n",
       "    .dataframe thead th {\n",
       "        text-align: right;\n",
       "    }\n",
       "</style>\n",
       "<table border=\"1\" class=\"dataframe\">\n",
       "  <thead>\n",
       "    <tr style=\"text-align: right;\">\n",
       "      <th></th>\n",
       "      <th>ID.x</th>\n",
       "      <th>Age</th>\n",
       "      <th>Income</th>\n",
       "      <th>Income_quantile_range</th>\n",
       "      <th>Income_quantile_label</th>\n",
       "    </tr>\n",
       "  </thead>\n",
       "  <tbody>\n",
       "    <tr>\n",
       "      <th>4</th>\n",
       "      <td>9368291c93d5d5f5c8cdb1a575e18bec</td>\n",
       "      <td>20.0</td>\n",
       "      <td>6000.0</td>\n",
       "      <td>(5999.999, 20000.0]</td>\n",
       "      <td>0-25Q</td>\n",
       "    </tr>\n",
       "    <tr>\n",
       "      <th>5</th>\n",
       "      <td>dd0e77eab9270e4b67c19b0d6bbf621b</td>\n",
       "      <td>34.0</td>\n",
       "      <td>40000.0</td>\n",
       "      <td>(37000.0, 60000.0]</td>\n",
       "      <td>50-75Q</td>\n",
       "    </tr>\n",
       "    <tr>\n",
       "      <th>6</th>\n",
       "      <td>7599c0aa0419b59fd11ffede98a3665d</td>\n",
       "      <td>23.0</td>\n",
       "      <td>32000.0</td>\n",
       "      <td>(20000.0, 37000.0]</td>\n",
       "      <td>25-50Q</td>\n",
       "    </tr>\n",
       "    <tr>\n",
       "      <th>7</th>\n",
       "      <td>6dff182db452487f07a47596f314bddc</td>\n",
       "      <td>35.0</td>\n",
       "      <td>40000.0</td>\n",
       "      <td>(37000.0, 60000.0]</td>\n",
       "      <td>50-75Q</td>\n",
       "    </tr>\n",
       "    <tr>\n",
       "      <th>8</th>\n",
       "      <td>9dc233f8ed1c6eb2432672ab4bb39249</td>\n",
       "      <td>33.0</td>\n",
       "      <td>80000.0</td>\n",
       "      <td>(60000.0, 200000.0]</td>\n",
       "      <td>75-100Q</td>\n",
       "    </tr>\n",
       "  </tbody>\n",
       "</table>\n",
       "</div>"
      ],
      "text/plain": [
       "                               ID.x   Age   Income Income_quantile_range  \\\n",
       "4  9368291c93d5d5f5c8cdb1a575e18bec  20.0   6000.0   (5999.999, 20000.0]   \n",
       "5  dd0e77eab9270e4b67c19b0d6bbf621b  34.0  40000.0    (37000.0, 60000.0]   \n",
       "6  7599c0aa0419b59fd11ffede98a3665d  23.0  32000.0    (20000.0, 37000.0]   \n",
       "7  6dff182db452487f07a47596f314bddc  35.0  40000.0    (37000.0, 60000.0]   \n",
       "8  9dc233f8ed1c6eb2432672ab4bb39249  33.0  80000.0   (60000.0, 200000.0]   \n",
       "\n",
       "  Income_quantile_label  \n",
       "4                 0-25Q  \n",
       "5                50-75Q  \n",
       "6                25-50Q  \n",
       "7                50-75Q  \n",
       "8               75-100Q  "
      ]
     },
     "execution_count": 11,
     "metadata": {},
     "output_type": "execute_result"
    }
   ],
   "source": [
    "quantile_labels = [\"0-25Q\", \"25-50Q\", \"50-75Q\" ,\"75-100Q\"]\n",
    "df[\"Income_quantile_range\"] = pd.qcut(df[\"Income\"], q=quantile_list)\n",
    "df[\"Income_quantile_label\"] = pd.qcut(df[\"Income\"], q=quantile_list, labels=quantile_labels)\n",
    "\n",
    "df[[\"ID.x\", \"Age\", \"Income\", \"Income_quantile_range\", \"Income_quantile_label\"]].iloc[4:9]"
   ]
  },
  {
   "cell_type": "markdown",
   "metadata": {},
   "source": [
    "## Observations\n",
    "\n",
    "- serie.quantile(quantiles)\n",
    "    Will return the respective quantiles of the value in the series, in relation with the value given in the parameter quantiles\n",
    "\n",
    "- pd.qcut()\n",
    "    Discretize variable into equal-sized buckets based on rank or based on sample quantiles.\n",
    "    \n",
    "    Parameters:\n",
    "        - q (list): array with the quantiles values\n",
    "        - labels (list): list with the respective labels for the quantile ranges"
   ]
  },
  {
   "cell_type": "code",
   "execution_count": null,
   "metadata": {},
   "outputs": [],
   "source": []
  }
 ],
 "metadata": {
  "kernelspec": {
   "display_name": "Python 3",
   "language": "python",
   "name": "python3"
  },
  "language_info": {
   "codemirror_mode": {
    "name": "ipython",
    "version": 3
   },
   "file_extension": ".py",
   "mimetype": "text/x-python",
   "name": "python",
   "nbconvert_exporter": "python",
   "pygments_lexer": "ipython3",
   "version": "3.8.3"
  }
 },
 "nbformat": 4,
 "nbformat_minor": 4
}
