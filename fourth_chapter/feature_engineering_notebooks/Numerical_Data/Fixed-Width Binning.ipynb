{
 "cells": [
  {
   "cell_type": "code",
   "execution_count": 2,
   "metadata": {},
   "outputs": [],
   "source": [
    "import pandas as pd\n",
    "import numpy as np\n",
    "import matplotlib.pyplot as plt"
   ]
  },
  {
   "cell_type": "markdown",
   "metadata": {},
   "source": [
    "# Fixed-Width Binning\n",
    "\n",
    "Basically we pre-assign the ranges of values and their respective classes"
   ]
  },
  {
   "cell_type": "code",
   "execution_count": 3,
   "metadata": {},
   "outputs": [],
   "source": [
    "df = pd.read_csv(\"../../datasets/fcc_2016_coder_survey_subset.csv\")\n",
    "df.head()\n",
    "features_to_vis = [\"ID.x\", \"Age\", \"Age_bin_custom_range\", \"Age_bin_custom_label\", \"Age_bin_rounding\"]"
   ]
  },
  {
   "cell_type": "code",
   "execution_count": 4,
   "metadata": {},
   "outputs": [
    {
     "data": {
      "text/plain": [
       "Text(0, 0.5, 'Frequency')"
      ]
     },
     "execution_count": 4,
     "metadata": {},
     "output_type": "execute_result"
    },
    {
     "data": {
      "image/png": "[encoded data removed]",
      "text/plain": [
       "<Figure size 432x288 with 1 Axes>"
      ]
     },
     "metadata": {
      "needs_background": "light"
     },
     "output_type": "display_data"
    }
   ],
   "source": [
    "fontsize = 12\n",
    "fig, ax = plt.subplots()\n",
    "df[\"Age\"].hist(color=\"#A9C5D3\")\n",
    "ax.set_title(\"Developer Age Histogram\", fontsize=fontsize)\n",
    "ax.set_xlabel(\"Age\", fontsize=fontsize)\n",
    "ax.set_ylabel(\"Frequency\", fontsize=fontsize)"
   ]
  },
  {
   "cell_type": "code",
   "execution_count": 5,
   "metadata": {},
   "outputs": [],
   "source": [
    "# Rounding the age\n",
    "df[\"Age_bin_rounding\"] = np.array(np.floor(np.array(df[\"Age\"]) / 10))"
   ]
  },
  {
   "cell_type": "markdown",
   "metadata": {},
   "source": [
    "### Specify the bin ranges\n",
    "\n",
    "We wanna use this ranges:\n",
    "\n",
    "    **Age** : **Bin**\n",
    "\n",
    "    0 - 15  :    1\n",
    "    16 - 30 :    2\n",
    "    31 - 45 :    3\n",
    "    46 - 60 :    4\n",
    "    61 - 75 :    5\n",
    "    76 - 100:    6"
   ]
  },
  {
   "cell_type": "code",
   "execution_count": 7,
   "metadata": {},
   "outputs": [
    {
     "data": {
      "text/html": [
       "<div>\n",
       "<style scoped>\n",
       "    .dataframe tbody tr th:only-of-type {\n",
       "        vertical-align: middle;\n",
       "    }\n",
       "\n",
       "    .dataframe tbody tr th {\n",
       "        vertical-align: top;\n",
       "    }\n",
       "\n",
       "    .dataframe thead th {\n",
       "        text-align: right;\n",
       "    }\n",
       "</style>\n",
       "<table border=\"1\" class=\"dataframe\">\n",
       "  <thead>\n",
       "    <tr style=\"text-align: right;\">\n",
       "      <th></th>\n",
       "      <th>ID.x</th>\n",
       "      <th>Age</th>\n",
       "      <th>Age_bin_custom_range</th>\n",
       "      <th>Age_bin_custom_label</th>\n",
       "      <th>Age_bin_rounding</th>\n",
       "    </tr>\n",
       "  </thead>\n",
       "  <tbody>\n",
       "    <tr>\n",
       "      <th>1071</th>\n",
       "      <td>6a02aa4618c99fdb3e24de522a099431</td>\n",
       "      <td>17.0</td>\n",
       "      <td>(15, 30]</td>\n",
       "      <td>2</td>\n",
       "      <td>1.0</td>\n",
       "    </tr>\n",
       "    <tr>\n",
       "      <th>1072</th>\n",
       "      <td>f0e5e47278c5f248fe861c5f7214c07a</td>\n",
       "      <td>38.0</td>\n",
       "      <td>(30, 45]</td>\n",
       "      <td>3</td>\n",
       "      <td>3.0</td>\n",
       "    </tr>\n",
       "    <tr>\n",
       "      <th>1073</th>\n",
       "      <td>6e14f6d0779b7e424fa3fdd9e4bd3bf9</td>\n",
       "      <td>21.0</td>\n",
       "      <td>(15, 30]</td>\n",
       "      <td>2</td>\n",
       "      <td>2.0</td>\n",
       "    </tr>\n",
       "    <tr>\n",
       "      <th>1074</th>\n",
       "      <td>c2654c07dc929cdf3dad4d1aec4ffbb3</td>\n",
       "      <td>53.0</td>\n",
       "      <td>(45, 60]</td>\n",
       "      <td>4</td>\n",
       "      <td>5.0</td>\n",
       "    </tr>\n",
       "    <tr>\n",
       "      <th>1075</th>\n",
       "      <td>f07449fc9339b2e57703ec7886232523</td>\n",
       "      <td>35.0</td>\n",
       "      <td>(30, 45]</td>\n",
       "      <td>3</td>\n",
       "      <td>3.0</td>\n",
       "    </tr>\n",
       "  </tbody>\n",
       "</table>\n",
       "</div>"
      ],
      "text/plain": [
       "                                  ID.x   Age Age_bin_custom_range  \\\n",
       "1071  6a02aa4618c99fdb3e24de522a099431  17.0             (15, 30]   \n",
       "1072  f0e5e47278c5f248fe861c5f7214c07a  38.0             (30, 45]   \n",
       "1073  6e14f6d0779b7e424fa3fdd9e4bd3bf9  21.0             (15, 30]   \n",
       "1074  c2654c07dc929cdf3dad4d1aec4ffbb3  53.0             (45, 60]   \n",
       "1075  f07449fc9339b2e57703ec7886232523  35.0             (30, 45]   \n",
       "\n",
       "     Age_bin_custom_label  Age_bin_rounding  \n",
       "1071                    2               1.0  \n",
       "1072                    3               3.0  \n",
       "1073                    2               2.0  \n",
       "1074                    4               5.0  \n",
       "1075                    3               3.0  "
      ]
     },
     "execution_count": 7,
     "metadata": {},
     "output_type": "execute_result"
    }
   ],
   "source": [
    "bin_ranges = [0, 15, 30, 45, 60, 75, 100]\n",
    "bin_names = [1, 2, 3, 4, 5, 6]\n",
    "\n",
    "df[\"Age_bin_custom_range\"] = pd.cut(np.array(df[\"Age\"]), bins=bin_ranges)\n",
    "df[\"Age_bin_custom_label\"] = pd.cut(np.array(df[\"Age\"]), bins=bin_ranges, labels=bin_names)\n",
    "\n",
    "df[features_to_vis].iloc[1071:1076]"
   ]
  },
  {
   "cell_type": "markdown",
   "metadata": {},
   "source": [
    "### Observations\n",
    "\n",
    "- pd.cut -> Bin values into discrete intervals\n",
    "    As parameters: \n",
    "        x, the array of values\n",
    "        bins, an array with the bins values\n",
    "        labeld, an array with the bins names\n"
   ]
  },
  {
   "cell_type": "code",
   "execution_count": 11,
   "metadata": {},
   "outputs": [
    {
     "data": {
      "text/plain": [
       "Text(0, 0.5, 'Frequency')"
      ]
     },
     "execution_count": 11,
     "metadata": {},
     "output_type": "execute_result"
    },
    {
     "data": {
      "image/png": "[encoded data removed]",
      "text/plain": [
       "<Figure size 432x288 with 1 Axes>"
      ]
     },
     "metadata": {
      "needs_background": "light"
     },
     "output_type": "display_data"
    }
   ],
   "source": [
    "fig, ax = plt.subplots()\n",
    "df[\"Age_bin_custom_label\"].hist(color=\"#A9C5D3\")\n",
    "ax.set_title(\"Developer Age Histogram\", fontsize=fontsize)\n",
    "ax.set_xlabel(\"Bins\", fontsize=fontsize)\n",
    "ax.set_ylabel(\"Frequency\", fontsize=fontsize)"
   ]
  },
  {
   "cell_type": "code",
   "execution_count": null,
   "metadata": {},
   "outputs": [],
   "source": []
  }
 ],
 "metadata": {
  "kernelspec": {
   "display_name": "Python 3",
   "language": "python",
   "name": "python3"
  },
  "language_info": {
   "codemirror_mode": {
    "name": "ipython",
    "version": 3
   },
   "file_extension": ".py",
   "mimetype": "text/x-python",
   "name": "python",
   "nbconvert_exporter": "python",
   "pygments_lexer": "ipython3",
   "version": "3.8.3"
  }
 },
 "nbformat": 4,
 "nbformat_minor": 4
}
