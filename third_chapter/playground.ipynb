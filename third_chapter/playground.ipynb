{
 "cells": [
  {
   "cell_type": "code",
   "execution_count": 221,
   "metadata": {},
   "outputs": [],
   "source": [
    "import pandas as pd\n",
    "import numpy as np\n",
    "import matplotlib.pyplot as plt\n",
    "\n",
    "from sklearn import preprocessing"
   ]
  },
  {
   "cell_type": "code",
   "execution_count": 159,
   "metadata": {},
   "outputs": [],
   "source": [
    "df = pd.read_csv(\"dataset.csv\")"
   ]
  },
  {
   "cell_type": "code",
   "execution_count": 160,
   "metadata": {},
   "outputs": [
    {
     "data": {
      "text/html": [
       "<div>\n",
       "<style scoped>\n",
       "    .dataframe tbody tr th:only-of-type {\n",
       "        vertical-align: middle;\n",
       "    }\n",
       "\n",
       "    .dataframe tbody tr th {\n",
       "        vertical-align: top;\n",
       "    }\n",
       "\n",
       "    .dataframe thead th {\n",
       "        text-align: right;\n",
       "    }\n",
       "</style>\n",
       "<table border=\"1\" class=\"dataframe\">\n",
       "  <thead>\n",
       "    <tr style=\"text-align: right;\">\n",
       "      <th></th>\n",
       "      <th>unnamed:_0</th>\n",
       "      <th>serial_no</th>\n",
       "      <th>date</th>\n",
       "      <th>user_id</th>\n",
       "      <th>product_id</th>\n",
       "      <th>quantity_purchased</th>\n",
       "      <th>price</th>\n",
       "      <th>user_type</th>\n",
       "    </tr>\n",
       "  </thead>\n",
       "  <tbody>\n",
       "    <tr>\n",
       "      <th>0</th>\n",
       "      <td>0</td>\n",
       "      <td>1000</td>\n",
       "      <td>2016-02-02</td>\n",
       "      <td>-101</td>\n",
       "      <td>0</td>\n",
       "      <td>10</td>\n",
       "      <td>1576.89</td>\n",
       "      <td>n</td>\n",
       "    </tr>\n",
       "    <tr>\n",
       "      <th>1</th>\n",
       "      <td>1</td>\n",
       "      <td>1001</td>\n",
       "      <td>NaN</td>\n",
       "      <td>5901</td>\n",
       "      <td>969</td>\n",
       "      <td>35</td>\n",
       "      <td>4286.64</td>\n",
       "      <td>n</td>\n",
       "    </tr>\n",
       "    <tr>\n",
       "      <th>2</th>\n",
       "      <td>2</td>\n",
       "      <td>1002</td>\n",
       "      <td>NaN</td>\n",
       "      <td>5510</td>\n",
       "      <td>188</td>\n",
       "      <td>20</td>\n",
       "      <td>3022.26</td>\n",
       "      <td>n</td>\n",
       "    </tr>\n",
       "    <tr>\n",
       "      <th>3</th>\n",
       "      <td>3</td>\n",
       "      <td>1003</td>\n",
       "      <td>2016-06-02</td>\n",
       "      <td>5964</td>\n",
       "      <td>827</td>\n",
       "      <td>24</td>\n",
       "      <td>4008.96</td>\n",
       "      <td>n</td>\n",
       "    </tr>\n",
       "    <tr>\n",
       "      <th>4</th>\n",
       "      <td>4</td>\n",
       "      <td>1004</td>\n",
       "      <td>NaN</td>\n",
       "      <td>5386</td>\n",
       "      <td>915</td>\n",
       "      <td>39</td>\n",
       "      <td>6604.64</td>\n",
       "      <td>n</td>\n",
       "    </tr>\n",
       "    <tr>\n",
       "      <th>...</th>\n",
       "      <td>...</td>\n",
       "      <td>...</td>\n",
       "      <td>...</td>\n",
       "      <td>...</td>\n",
       "      <td>...</td>\n",
       "      <td>...</td>\n",
       "      <td>...</td>\n",
       "      <td>...</td>\n",
       "    </tr>\n",
       "    <tr>\n",
       "      <th>995</th>\n",
       "      <td>995</td>\n",
       "      <td>1995</td>\n",
       "      <td>2016-03-01</td>\n",
       "      <td>5801</td>\n",
       "      <td>553</td>\n",
       "      <td>28</td>\n",
       "      <td>2700.14</td>\n",
       "      <td>d</td>\n",
       "    </tr>\n",
       "    <tr>\n",
       "      <th>996</th>\n",
       "      <td>996</td>\n",
       "      <td>1996</td>\n",
       "      <td>2016-01-14</td>\n",
       "      <td>5751</td>\n",
       "      <td>961</td>\n",
       "      <td>20</td>\n",
       "      <td>3981.01</td>\n",
       "      <td>a</td>\n",
       "    </tr>\n",
       "    <tr>\n",
       "      <th>997</th>\n",
       "      <td>997</td>\n",
       "      <td>1997</td>\n",
       "      <td>2016-03-02</td>\n",
       "      <td>5207</td>\n",
       "      <td>486</td>\n",
       "      <td>39</td>\n",
       "      <td>1504.26</td>\n",
       "      <td>c</td>\n",
       "    </tr>\n",
       "    <tr>\n",
       "      <th>998</th>\n",
       "      <td>998</td>\n",
       "      <td>1998</td>\n",
       "      <td>2016-03-02</td>\n",
       "      <td>5208</td>\n",
       "      <td>259</td>\n",
       "      <td>24</td>\n",
       "      <td>2452.02</td>\n",
       "      <td>a</td>\n",
       "    </tr>\n",
       "    <tr>\n",
       "      <th>999</th>\n",
       "      <td>999</td>\n",
       "      <td>1999</td>\n",
       "      <td>2016-08-02</td>\n",
       "      <td>5806</td>\n",
       "      <td>991</td>\n",
       "      <td>25</td>\n",
       "      <td>1636.71</td>\n",
       "      <td>c</td>\n",
       "    </tr>\n",
       "  </tbody>\n",
       "</table>\n",
       "<p>1000 rows × 8 columns</p>\n",
       "</div>"
      ],
      "text/plain": [
       "     unnamed:_0  serial_no        date  user_id  product_id  \\\n",
       "0             0       1000  2016-02-02     -101           0   \n",
       "1             1       1001         NaN     5901         969   \n",
       "2             2       1002         NaN     5510         188   \n",
       "3             3       1003  2016-06-02     5964         827   \n",
       "4             4       1004         NaN     5386         915   \n",
       "..          ...        ...         ...      ...         ...   \n",
       "995         995       1995  2016-03-01     5801         553   \n",
       "996         996       1996  2016-01-14     5751         961   \n",
       "997         997       1997  2016-03-02     5207         486   \n",
       "998         998       1998  2016-03-02     5208         259   \n",
       "999         999       1999  2016-08-02     5806         991   \n",
       "\n",
       "     quantity_purchased    price user_type  \n",
       "0                    10  1576.89         n  \n",
       "1                    35  4286.64         n  \n",
       "2                    20  3022.26         n  \n",
       "3                    24  4008.96         n  \n",
       "4                    39  6604.64         n  \n",
       "..                  ...      ...       ...  \n",
       "995                  28  2700.14         d  \n",
       "996                  20  3981.01         a  \n",
       "997                  39  1504.26         c  \n",
       "998                  24  2452.02         a  \n",
       "999                  25  1636.71         c  \n",
       "\n",
       "[1000 rows x 8 columns]"
      ]
     },
     "execution_count": 160,
     "metadata": {},
     "output_type": "execute_result"
    }
   ],
   "source": [
    "df.rename(columns={col: col.lower().replace(\n",
    "                \" \", \"_\") for col in df.columns.values.tolist()}, inplace=True)\n",
    "\n",
    "df"
   ]
  },
  {
   "cell_type": "code",
   "execution_count": 161,
   "metadata": {},
   "outputs": [
    {
     "data": {
      "text/plain": [
       "array([10, 35, 20, 24, 39, 16, 38, 12, 17, 29])"
      ]
     },
     "execution_count": 161,
     "metadata": {},
     "output_type": "execute_result"
    }
   ],
   "source": [
    "df[[\"quantity_purchased\"]].values[0:10, 0]"
   ]
  },
  {
   "cell_type": "markdown",
   "metadata": {},
   "source": [
    "Usando el name de la columna, y devolviendo los valores de la misma.\n",
    "También se puede:"
   ]
  },
  {
   "cell_type": "code",
   "execution_count": 162,
   "metadata": {},
   "outputs": [
    {
     "data": {
      "text/plain": [
       "array([10, 35, 20, 24, 39, 16, 38, 12, 17, 29])"
      ]
     },
     "execution_count": 162,
     "metadata": {},
     "output_type": "execute_result"
    }
   ],
   "source": [
    "df.quantity_purchased.values[0:10]"
   ]
  },
  {
   "cell_type": "code",
   "execution_count": 163,
   "metadata": {},
   "outputs": [
    {
     "data": {
      "text/plain": [
       "array([1576.89, 4286.64, 3022.26, 4008.96, 6604.64, 1311.74, 1559.14,\n",
       "       4801.32, 3918.11, 1182.73])"
      ]
     },
     "execution_count": 163,
     "metadata": {},
     "output_type": "execute_result"
    }
   ],
   "source": [
    "df.select_dtypes(include=[\"float64\"]).values[:10, 0]"
   ]
  },
  {
   "cell_type": "markdown",
   "metadata": {},
   "source": [
    "select_dtypes ignora las columnas y solo toma en consideración el tipo del valor"
   ]
  },
  {
   "cell_type": "code",
   "execution_count": 164,
   "metadata": {},
   "outputs": [
    {
     "data": {
      "text/html": [
       "<div>\n",
       "<style scoped>\n",
       "    .dataframe tbody tr th:only-of-type {\n",
       "        vertical-align: middle;\n",
       "    }\n",
       "\n",
       "    .dataframe tbody tr th {\n",
       "        vertical-align: top;\n",
       "    }\n",
       "\n",
       "    .dataframe thead th {\n",
       "        text-align: right;\n",
       "    }\n",
       "</style>\n",
       "<table border=\"1\" class=\"dataframe\">\n",
       "  <thead>\n",
       "    <tr style=\"text-align: right;\">\n",
       "      <th></th>\n",
       "      <th>unnamed:_0</th>\n",
       "      <th>serial_no</th>\n",
       "      <th>date</th>\n",
       "      <th>user_id</th>\n",
       "      <th>product_id</th>\n",
       "      <th>quantity_purchased</th>\n",
       "      <th>price</th>\n",
       "      <th>user_type</th>\n",
       "    </tr>\n",
       "  </thead>\n",
       "  <tbody>\n",
       "    <tr>\n",
       "      <th>10</th>\n",
       "      <td>10</td>\n",
       "      <td>1010</td>\n",
       "      <td>NaN</td>\n",
       "      <td>5252</td>\n",
       "      <td>654</td>\n",
       "      <td>24</td>\n",
       "      <td>4659.53</td>\n",
       "      <td>n</td>\n",
       "    </tr>\n",
       "    <tr>\n",
       "      <th>501</th>\n",
       "      <td>501</td>\n",
       "      <td>1501</td>\n",
       "      <td>2016-01-14</td>\n",
       "      <td>5901</td>\n",
       "      <td>969</td>\n",
       "      <td>24</td>\n",
       "      <td>3311.96</td>\n",
       "      <td>a</td>\n",
       "    </tr>\n",
       "    <tr>\n",
       "      <th>20</th>\n",
       "      <td>20</td>\n",
       "      <td>1020</td>\n",
       "      <td>2016-03-02</td>\n",
       "      <td>5208</td>\n",
       "      <td>221</td>\n",
       "      <td>10</td>\n",
       "      <td>825.62</td>\n",
       "      <td>n</td>\n",
       "    </tr>\n",
       "  </tbody>\n",
       "</table>\n",
       "</div>"
      ],
      "text/plain": [
       "     unnamed:_0  serial_no        date  user_id  product_id  \\\n",
       "10           10       1010         NaN     5252         654   \n",
       "501         501       1501  2016-01-14     5901         969   \n",
       "20           20       1020  2016-03-02     5208         221   \n",
       "\n",
       "     quantity_purchased    price user_type  \n",
       "10                   24  4659.53         n  \n",
       "501                  24  3311.96         a  \n",
       "20                   10   825.62         n  "
      ]
     },
     "execution_count": 164,
     "metadata": {},
     "output_type": "execute_result"
    }
   ],
   "source": [
    "df.iloc[[10, 501, 20]]"
   ]
  },
  {
   "cell_type": "markdown",
   "metadata": {},
   "source": [
    "iloc usado de esta manera ([[]]), lo que hace es devolverte las filas seleccionadas. En este caso la 10, 501 y la 20"
   ]
  },
  {
   "cell_type": "code",
   "execution_count": 165,
   "metadata": {},
   "outputs": [
    {
     "data": {
      "text/plain": [
       "5901"
      ]
     },
     "execution_count": 165,
     "metadata": {},
     "output_type": "execute_result"
    }
   ],
   "source": [
    "df.iloc[1, 3]"
   ]
  },
  {
   "cell_type": "markdown",
   "metadata": {},
   "source": [
    "Pero también se puede usar así  para devolver el valor de una columna/fila específca. Donde el primer argumento indica el número de la fila y el segundo el de la columna"
   ]
  },
  {
   "cell_type": "code",
   "execution_count": 166,
   "metadata": {},
   "outputs": [
    {
     "data": {
      "text/html": [
       "<div>\n",
       "<style scoped>\n",
       "    .dataframe tbody tr th:only-of-type {\n",
       "        vertical-align: middle;\n",
       "    }\n",
       "\n",
       "    .dataframe tbody tr th {\n",
       "        vertical-align: top;\n",
       "    }\n",
       "\n",
       "    .dataframe thead th {\n",
       "        text-align: right;\n",
       "    }\n",
       "</style>\n",
       "<table border=\"1\" class=\"dataframe\">\n",
       "  <thead>\n",
       "    <tr style=\"text-align: right;\">\n",
       "      <th></th>\n",
       "      <th>unnamed:_0</th>\n",
       "      <th>serial_no</th>\n",
       "      <th>date</th>\n",
       "      <th>user_id</th>\n",
       "      <th>product_id</th>\n",
       "      <th>quantity_purchased</th>\n",
       "      <th>price</th>\n",
       "      <th>user_type</th>\n",
       "    </tr>\n",
       "  </thead>\n",
       "  <tbody>\n",
       "    <tr>\n",
       "      <th>1</th>\n",
       "      <td>1</td>\n",
       "      <td>1001</td>\n",
       "      <td>NaN</td>\n",
       "      <td>5901</td>\n",
       "      <td>969</td>\n",
       "      <td>35</td>\n",
       "      <td>4286.64</td>\n",
       "      <td>n</td>\n",
       "    </tr>\n",
       "    <tr>\n",
       "      <th>2</th>\n",
       "      <td>2</td>\n",
       "      <td>1002</td>\n",
       "      <td>NaN</td>\n",
       "      <td>5510</td>\n",
       "      <td>188</td>\n",
       "      <td>20</td>\n",
       "      <td>3022.26</td>\n",
       "      <td>n</td>\n",
       "    </tr>\n",
       "    <tr>\n",
       "      <th>3</th>\n",
       "      <td>3</td>\n",
       "      <td>1003</td>\n",
       "      <td>2016-06-02</td>\n",
       "      <td>5964</td>\n",
       "      <td>827</td>\n",
       "      <td>24</td>\n",
       "      <td>4008.96</td>\n",
       "      <td>n</td>\n",
       "    </tr>\n",
       "    <tr>\n",
       "      <th>4</th>\n",
       "      <td>4</td>\n",
       "      <td>1004</td>\n",
       "      <td>NaN</td>\n",
       "      <td>5386</td>\n",
       "      <td>915</td>\n",
       "      <td>39</td>\n",
       "      <td>6604.64</td>\n",
       "      <td>n</td>\n",
       "    </tr>\n",
       "    <tr>\n",
       "      <th>5</th>\n",
       "      <td>5</td>\n",
       "      <td>1005</td>\n",
       "      <td>NaN</td>\n",
       "      <td>5137</td>\n",
       "      <td>665</td>\n",
       "      <td>16</td>\n",
       "      <td>1311.74</td>\n",
       "      <td>n</td>\n",
       "    </tr>\n",
       "    <tr>\n",
       "      <th>...</th>\n",
       "      <td>...</td>\n",
       "      <td>...</td>\n",
       "      <td>...</td>\n",
       "      <td>...</td>\n",
       "      <td>...</td>\n",
       "      <td>...</td>\n",
       "      <td>...</td>\n",
       "      <td>...</td>\n",
       "    </tr>\n",
       "    <tr>\n",
       "      <th>995</th>\n",
       "      <td>995</td>\n",
       "      <td>1995</td>\n",
       "      <td>2016-03-01</td>\n",
       "      <td>5801</td>\n",
       "      <td>553</td>\n",
       "      <td>28</td>\n",
       "      <td>2700.14</td>\n",
       "      <td>d</td>\n",
       "    </tr>\n",
       "    <tr>\n",
       "      <th>996</th>\n",
       "      <td>996</td>\n",
       "      <td>1996</td>\n",
       "      <td>2016-01-14</td>\n",
       "      <td>5751</td>\n",
       "      <td>961</td>\n",
       "      <td>20</td>\n",
       "      <td>3981.01</td>\n",
       "      <td>a</td>\n",
       "    </tr>\n",
       "    <tr>\n",
       "      <th>997</th>\n",
       "      <td>997</td>\n",
       "      <td>1997</td>\n",
       "      <td>2016-03-02</td>\n",
       "      <td>5207</td>\n",
       "      <td>486</td>\n",
       "      <td>39</td>\n",
       "      <td>1504.26</td>\n",
       "      <td>c</td>\n",
       "    </tr>\n",
       "    <tr>\n",
       "      <th>998</th>\n",
       "      <td>998</td>\n",
       "      <td>1998</td>\n",
       "      <td>2016-03-02</td>\n",
       "      <td>5208</td>\n",
       "      <td>259</td>\n",
       "      <td>24</td>\n",
       "      <td>2452.02</td>\n",
       "      <td>a</td>\n",
       "    </tr>\n",
       "    <tr>\n",
       "      <th>999</th>\n",
       "      <td>999</td>\n",
       "      <td>1999</td>\n",
       "      <td>2016-08-02</td>\n",
       "      <td>5806</td>\n",
       "      <td>991</td>\n",
       "      <td>25</td>\n",
       "      <td>1636.71</td>\n",
       "      <td>c</td>\n",
       "    </tr>\n",
       "  </tbody>\n",
       "</table>\n",
       "<p>997 rows × 8 columns</p>\n",
       "</div>"
      ],
      "text/plain": [
       "     unnamed:_0  serial_no        date  user_id  product_id  \\\n",
       "1             1       1001         NaN     5901         969   \n",
       "2             2       1002         NaN     5510         188   \n",
       "3             3       1003  2016-06-02     5964         827   \n",
       "4             4       1004         NaN     5386         915   \n",
       "5             5       1005         NaN     5137         665   \n",
       "..          ...        ...         ...      ...         ...   \n",
       "995         995       1995  2016-03-01     5801         553   \n",
       "996         996       1996  2016-01-14     5751         961   \n",
       "997         997       1997  2016-03-02     5207         486   \n",
       "998         998       1998  2016-03-02     5208         259   \n",
       "999         999       1999  2016-08-02     5806         991   \n",
       "\n",
       "     quantity_purchased    price user_type  \n",
       "1                    35  4286.64         n  \n",
       "2                    20  3022.26         n  \n",
       "3                    24  4008.96         n  \n",
       "4                    39  6604.64         n  \n",
       "5                    16  1311.74         n  \n",
       "..                  ...      ...       ...  \n",
       "995                  28  2700.14         d  \n",
       "996                  20  3981.01         a  \n",
       "997                  39  1504.26         c  \n",
       "998                  24  2452.02         a  \n",
       "999                  25  1636.71         c  \n",
       "\n",
       "[997 rows x 8 columns]"
      ]
     },
     "execution_count": 166,
     "metadata": {},
     "output_type": "execute_result"
    }
   ],
   "source": [
    "df.drop([0,24,51], axis=0)"
   ]
  },
  {
   "cell_type": "markdown",
   "metadata": {},
   "source": [
    "el método drop lo que hace es eliminar las filas especificadas. También se puede pasar axis=1, para eliminar columnas."
   ]
  },
  {
   "cell_type": "code",
   "execution_count": 167,
   "metadata": {},
   "outputs": [
    {
     "data": {
      "text/html": [
       "<div>\n",
       "<style scoped>\n",
       "    .dataframe tbody tr th:only-of-type {\n",
       "        vertical-align: middle;\n",
       "    }\n",
       "\n",
       "    .dataframe tbody tr th {\n",
       "        vertical-align: top;\n",
       "    }\n",
       "\n",
       "    .dataframe thead th {\n",
       "        text-align: right;\n",
       "    }\n",
       "</style>\n",
       "<table border=\"1\" class=\"dataframe\">\n",
       "  <thead>\n",
       "    <tr style=\"text-align: right;\">\n",
       "      <th></th>\n",
       "      <th>unnamed:_0</th>\n",
       "      <th>serial_no</th>\n",
       "      <th>date</th>\n",
       "      <th>user_id</th>\n",
       "      <th>product_id</th>\n",
       "      <th>quantity_purchased</th>\n",
       "      <th>price</th>\n",
       "      <th>user_type</th>\n",
       "    </tr>\n",
       "  </thead>\n",
       "  <tbody>\n",
       "    <tr>\n",
       "      <th>1</th>\n",
       "      <td>1</td>\n",
       "      <td>1001</td>\n",
       "      <td>NaN</td>\n",
       "      <td>5901</td>\n",
       "      <td>969</td>\n",
       "      <td>35</td>\n",
       "      <td>4286.64</td>\n",
       "      <td>n</td>\n",
       "    </tr>\n",
       "    <tr>\n",
       "      <th>4</th>\n",
       "      <td>4</td>\n",
       "      <td>1004</td>\n",
       "      <td>NaN</td>\n",
       "      <td>5386</td>\n",
       "      <td>915</td>\n",
       "      <td>39</td>\n",
       "      <td>6604.64</td>\n",
       "      <td>n</td>\n",
       "    </tr>\n",
       "    <tr>\n",
       "      <th>6</th>\n",
       "      <td>6</td>\n",
       "      <td>1006</td>\n",
       "      <td>2016-01-26</td>\n",
       "      <td>5710</td>\n",
       "      <td>271</td>\n",
       "      <td>38</td>\n",
       "      <td>1559.14</td>\n",
       "      <td>n</td>\n",
       "    </tr>\n",
       "    <tr>\n",
       "      <th>9</th>\n",
       "      <td>9</td>\n",
       "      <td>1009</td>\n",
       "      <td>NaN</td>\n",
       "      <td>5984</td>\n",
       "      <td>672</td>\n",
       "      <td>29</td>\n",
       "      <td>1182.73</td>\n",
       "      <td>n</td>\n",
       "    </tr>\n",
       "    <tr>\n",
       "      <th>16</th>\n",
       "      <td>16</td>\n",
       "      <td>1016</td>\n",
       "      <td>NaN</td>\n",
       "      <td>5942</td>\n",
       "      <td>113</td>\n",
       "      <td>30</td>\n",
       "      <td>1380.98</td>\n",
       "      <td>n</td>\n",
       "    </tr>\n",
       "  </tbody>\n",
       "</table>\n",
       "</div>"
      ],
      "text/plain": [
       "    unnamed:_0  serial_no        date  user_id  product_id  \\\n",
       "1            1       1001         NaN     5901         969   \n",
       "4            4       1004         NaN     5386         915   \n",
       "6            6       1006  2016-01-26     5710         271   \n",
       "9            9       1009         NaN     5984         672   \n",
       "16          16       1016         NaN     5942         113   \n",
       "\n",
       "    quantity_purchased    price user_type  \n",
       "1                   35  4286.64         n  \n",
       "4                   39  6604.64         n  \n",
       "6                   38  1559.14         n  \n",
       "9                   29  1182.73         n  \n",
       "16                  30  1380.98         n  "
      ]
     },
     "execution_count": 167,
     "metadata": {},
     "output_type": "execute_result"
    }
   ],
   "source": [
    "df[df.quantity_purchased>25].head()"
   ]
  },
  {
   "cell_type": "markdown",
   "metadata": {},
   "source": [
    "Acá pandas nos permite seleccionar según valores booleanos. En este ejemplo devuelve el dataset solo donde la cantidad comprada es mayor a 25"
   ]
  },
  {
   "cell_type": "code",
   "execution_count": 168,
   "metadata": {},
   "outputs": [
    {
     "data": {
      "text/html": [
       "<div>\n",
       "<style scoped>\n",
       "    .dataframe tbody tr th:only-of-type {\n",
       "        vertical-align: middle;\n",
       "    }\n",
       "\n",
       "    .dataframe tbody tr th {\n",
       "        vertical-align: top;\n",
       "    }\n",
       "\n",
       "    .dataframe thead th {\n",
       "        text-align: right;\n",
       "    }\n",
       "</style>\n",
       "<table border=\"1\" class=\"dataframe\">\n",
       "  <thead>\n",
       "    <tr style=\"text-align: right;\">\n",
       "      <th></th>\n",
       "      <th>unnamed:_0</th>\n",
       "      <th>serial_no</th>\n",
       "      <th>date</th>\n",
       "      <th>user_id</th>\n",
       "      <th>product_id</th>\n",
       "      <th>quantity_purchased</th>\n",
       "      <th>price</th>\n",
       "      <th>user_type</th>\n",
       "    </tr>\n",
       "  </thead>\n",
       "  <tbody>\n",
       "    <tr>\n",
       "      <th>100</th>\n",
       "      <td>100</td>\n",
       "      <td>1100</td>\n",
       "      <td>2016-10-01</td>\n",
       "      <td>5704</td>\n",
       "      <td>122</td>\n",
       "      <td>32</td>\n",
       "      <td>2157.08</td>\n",
       "      <td>c</td>\n",
       "    </tr>\n",
       "    <tr>\n",
       "      <th>101</th>\n",
       "      <td>101</td>\n",
       "      <td>1101</td>\n",
       "      <td>2016-01-20</td>\n",
       "      <td>5901</td>\n",
       "      <td>969</td>\n",
       "      <td>30</td>\n",
       "      <td>2265.24</td>\n",
       "      <td>b</td>\n",
       "    </tr>\n",
       "    <tr>\n",
       "      <th>102</th>\n",
       "      <td>102</td>\n",
       "      <td>1102</td>\n",
       "      <td>2016-06-01</td>\n",
       "      <td>5510</td>\n",
       "      <td>188</td>\n",
       "      <td>24</td>\n",
       "      <td>2746.75</td>\n",
       "      <td>a</td>\n",
       "    </tr>\n",
       "    <tr>\n",
       "      <th>103</th>\n",
       "      <td>103</td>\n",
       "      <td>1103</td>\n",
       "      <td>2016-01-14</td>\n",
       "      <td>5964</td>\n",
       "      <td>827</td>\n",
       "      <td>37</td>\n",
       "      <td>4002.73</td>\n",
       "      <td>d</td>\n",
       "    </tr>\n",
       "    <tr>\n",
       "      <th>104</th>\n",
       "      <td>104</td>\n",
       "      <td>1104</td>\n",
       "      <td>2016-01-16</td>\n",
       "      <td>5386</td>\n",
       "      <td>915</td>\n",
       "      <td>3</td>\n",
       "      <td>2841.32</td>\n",
       "      <td>b</td>\n",
       "    </tr>\n",
       "  </tbody>\n",
       "</table>\n",
       "</div>"
      ],
      "text/plain": [
       "     unnamed:_0  serial_no        date  user_id  product_id  \\\n",
       "100         100       1100  2016-10-01     5704         122   \n",
       "101         101       1101  2016-01-20     5901         969   \n",
       "102         102       1102  2016-06-01     5510         188   \n",
       "103         103       1103  2016-01-14     5964         827   \n",
       "104         104       1104  2016-01-16     5386         915   \n",
       "\n",
       "     quantity_purchased    price user_type  \n",
       "100                  32  2157.08         c  \n",
       "101                  30  2265.24         b  \n",
       "102                  24  2746.75         a  \n",
       "103                  37  4002.73         d  \n",
       "104                   3  2841.32         b  "
      ]
     },
     "execution_count": 168,
     "metadata": {},
     "output_type": "execute_result"
    }
   ],
   "source": [
    "df[100:].head()"
   ]
  },
  {
   "cell_type": "code",
   "execution_count": 169,
   "metadata": {},
   "outputs": [
    {
     "data": {
      "text/plain": [
       "unnamed:_0                     int64\n",
       "serial_no                      int64\n",
       "date                  datetime64[ns]\n",
       "user_id                        int64\n",
       "product_id                     int64\n",
       "quantity_purchased             int64\n",
       "price                        float64\n",
       "user_type                     object\n",
       "dtype: object"
      ]
     },
     "execution_count": 169,
     "metadata": {},
     "output_type": "execute_result"
    }
   ],
   "source": [
    "df[\"date\"] = pd.to_datetime(df.date)\n",
    "df.dtypes"
   ]
  },
  {
   "cell_type": "markdown",
   "metadata": {},
   "source": [
    "Typecasting consiste en llevar al tipo de dato adecuado a todos los datos. to_datetime nos permite tener un tipo de fecha *date* en vez de un objeto.\n",
    "También, por ejemplo, es de utilidad del método to_numeric, para convertir los valores a números."
   ]
  },
  {
   "cell_type": "code",
   "execution_count": 170,
   "metadata": {},
   "outputs": [],
   "source": [
    "def expand_user_type(u_type):\n",
    "    if u_type in [\"a\", \"b\"]:\n",
    "        return \"new\"\n",
    "    elif u_type == \"c\":\n",
    "        return \"existing\"\n",
    "    elif u_type == \"d\":\n",
    "        return \"loyal_existing\"\n",
    "    else:\n",
    "        return \"error\""
   ]
  },
  {
   "cell_type": "code",
   "execution_count": 171,
   "metadata": {},
   "outputs": [],
   "source": [
    "df[\"user_class\"] = df[\"user_type\"].map(expand_user_type)"
   ]
  },
  {
   "cell_type": "markdown",
   "metadata": {},
   "source": [
    "Con *map* se mapea todos los valores de la columna *user_type*, y para cada valor se le aplica la función **expand_user_type**. map solo aplica para Series y no para Dataframes."
   ]
  },
  {
   "cell_type": "code",
   "execution_count": 172,
   "metadata": {},
   "outputs": [
    {
     "data": {
      "text/plain": [
       "0       5\n",
       "1       0\n",
       "2       0\n",
       "3      22\n",
       "4       0\n",
       "       ..\n",
       "995     9\n",
       "996     2\n",
       "997     9\n",
       "998     9\n",
       "999    31\n",
       "Name: purchase_week, Length: 1000, dtype: int64"
      ]
     },
     "execution_count": 172,
     "metadata": {},
     "output_type": "execute_result"
    }
   ],
   "source": [
    "df[\"purchase_week\"] = df[[\"date\"]].applymap(lambda dt: dt.week\n",
    "                                                    if not pd.isnull(dt.week)\n",
    "                                                    else 0\n",
    "                                           )\n",
    "df[\"purchase_week\"]"
   ]
  },
  {
   "cell_type": "markdown",
   "metadata": {},
   "source": [
    "Applymap hace lo mismo que map, pero esta vez se enfoca en los dataframe en vez de las series."
   ]
  },
  {
   "cell_type": "code",
   "execution_count": 173,
   "metadata": {},
   "outputs": [
    {
     "data": {
      "text/plain": [
       "unnamed:_0             999.00\n",
       "serial_no             2000.00\n",
       "user_id               6086.00\n",
       "product_id            1095.00\n",
       "quantity_purchased      40.00\n",
       "price                 7818.25\n",
       "purchase_week           53.00\n",
       "dtype: float64"
      ]
     },
     "execution_count": 173,
     "metadata": {},
     "output_type": "execute_result"
    }
   ],
   "source": [
    "df.select_dtypes(include=[np.number]).apply(lambda x: x.max() - x.min())"
   ]
  },
  {
   "cell_type": "markdown",
   "metadata": {},
   "source": [
    "y apply sirve para aplicar una funcion a lo largo de los valores de un dataframe o de una serie"
   ]
  },
  {
   "cell_type": "code",
   "execution_count": 174,
   "metadata": {},
   "outputs": [
    {
     "data": {
      "text/plain": [
       "((969, 10), (1000, 10))"
      ]
     },
     "execution_count": 174,
     "metadata": {},
     "output_type": "execute_result"
    }
   ],
   "source": [
    "df_dropped = df.dropna(subset=[\"date\"])\n",
    "df_dropped.shape, df.shape"
   ]
  },
  {
   "cell_type": "markdown",
   "metadata": {},
   "source": [
    "dropna va a eliminar todas las filas de la columna *date* que sean null"
   ]
  },
  {
   "cell_type": "code",
   "execution_count": 175,
   "metadata": {},
   "outputs": [
    {
     "name": "stderr",
     "output_type": "stream",
     "text": [
      "/home/francisco/anaconda3/lib/python3.8/site-packages/pandas/core/generic.py:6245: SettingWithCopyWarning: \n",
      "A value is trying to be set on a copy of a slice from a DataFrame\n",
      "\n",
      "See the caveats in the documentation: https://pandas.pydata.org/pandas-docs/stable/user_guide/indexing.html#returning-a-view-versus-a-copy\n",
      "  self._update_inplace(new_data)\n"
     ]
    }
   ],
   "source": [
    "df_dropped[\"price\"].fillna(value=np.round(df.price.mean(),2), inplace=True)"
   ]
  },
  {
   "cell_type": "markdown",
   "metadata": {},
   "source": [
    "Se cambian los valores null en la columna de precios por la media del dataframe"
   ]
  },
  {
   "cell_type": "code",
   "execution_count": 176,
   "metadata": {},
   "outputs": [],
   "source": [
    "df_dropped[\"user_type\"].fillna(method=\"ffill\", inplace=True)"
   ]
  },
  {
   "cell_type": "markdown",
   "metadata": {},
   "source": [
    "El método ffill (forward fill) lo que hace es completar el valor NaN con el siguiente valor de la siguiente fila"
   ]
  },
  {
   "cell_type": "code",
   "execution_count": 177,
   "metadata": {},
   "outputs": [
    {
     "data": {
      "text/html": [
       "<div>\n",
       "<style scoped>\n",
       "    .dataframe tbody tr th:only-of-type {\n",
       "        vertical-align: middle;\n",
       "    }\n",
       "\n",
       "    .dataframe tbody tr th {\n",
       "        vertical-align: top;\n",
       "    }\n",
       "\n",
       "    .dataframe thead th {\n",
       "        text-align: right;\n",
       "    }\n",
       "</style>\n",
       "<table border=\"1\" class=\"dataframe\">\n",
       "  <thead>\n",
       "    <tr style=\"text-align: right;\">\n",
       "      <th></th>\n",
       "      <th>unnamed:_0</th>\n",
       "      <th>serial_no</th>\n",
       "      <th>date</th>\n",
       "      <th>user_id</th>\n",
       "      <th>product_id</th>\n",
       "      <th>quantity_purchased</th>\n",
       "      <th>price</th>\n",
       "      <th>user_type</th>\n",
       "      <th>user_class</th>\n",
       "      <th>purchase_week</th>\n",
       "    </tr>\n",
       "  </thead>\n",
       "  <tbody>\n",
       "    <tr>\n",
       "      <th>0</th>\n",
       "      <td>0</td>\n",
       "      <td>1000</td>\n",
       "      <td>2016-02-02</td>\n",
       "      <td>-101</td>\n",
       "      <td>0</td>\n",
       "      <td>10</td>\n",
       "      <td>1576.89</td>\n",
       "      <td>n</td>\n",
       "      <td>error</td>\n",
       "      <td>5</td>\n",
       "    </tr>\n",
       "    <tr>\n",
       "      <th>3</th>\n",
       "      <td>3</td>\n",
       "      <td>1003</td>\n",
       "      <td>2016-06-02</td>\n",
       "      <td>5964</td>\n",
       "      <td>827</td>\n",
       "      <td>24</td>\n",
       "      <td>4008.96</td>\n",
       "      <td>n</td>\n",
       "      <td>error</td>\n",
       "      <td>22</td>\n",
       "    </tr>\n",
       "    <tr>\n",
       "      <th>6</th>\n",
       "      <td>6</td>\n",
       "      <td>1006</td>\n",
       "      <td>2016-01-26</td>\n",
       "      <td>5710</td>\n",
       "      <td>271</td>\n",
       "      <td>38</td>\n",
       "      <td>1559.14</td>\n",
       "      <td>n</td>\n",
       "      <td>error</td>\n",
       "      <td>4</td>\n",
       "    </tr>\n",
       "    <tr>\n",
       "      <th>8</th>\n",
       "      <td>8</td>\n",
       "      <td>-1</td>\n",
       "      <td>2016-01-30</td>\n",
       "      <td>5718</td>\n",
       "      <td>451</td>\n",
       "      <td>17</td>\n",
       "      <td>3918.11</td>\n",
       "      <td>n</td>\n",
       "      <td>error</td>\n",
       "      <td>4</td>\n",
       "    </tr>\n",
       "    <tr>\n",
       "      <th>13</th>\n",
       "      <td>13</td>\n",
       "      <td>1013</td>\n",
       "      <td>2016-05-02</td>\n",
       "      <td>5801</td>\n",
       "      <td>783</td>\n",
       "      <td>2</td>\n",
       "      <td>6068.04</td>\n",
       "      <td>n</td>\n",
       "      <td>error</td>\n",
       "      <td>18</td>\n",
       "    </tr>\n",
       "    <tr>\n",
       "      <th>...</th>\n",
       "      <td>...</td>\n",
       "      <td>...</td>\n",
       "      <td>...</td>\n",
       "      <td>...</td>\n",
       "      <td>...</td>\n",
       "      <td>...</td>\n",
       "      <td>...</td>\n",
       "      <td>...</td>\n",
       "      <td>...</td>\n",
       "      <td>...</td>\n",
       "    </tr>\n",
       "    <tr>\n",
       "      <th>995</th>\n",
       "      <td>995</td>\n",
       "      <td>1995</td>\n",
       "      <td>2016-03-01</td>\n",
       "      <td>5801</td>\n",
       "      <td>553</td>\n",
       "      <td>28</td>\n",
       "      <td>2700.14</td>\n",
       "      <td>d</td>\n",
       "      <td>loyal_existing</td>\n",
       "      <td>9</td>\n",
       "    </tr>\n",
       "    <tr>\n",
       "      <th>996</th>\n",
       "      <td>996</td>\n",
       "      <td>1996</td>\n",
       "      <td>2016-01-14</td>\n",
       "      <td>5751</td>\n",
       "      <td>961</td>\n",
       "      <td>20</td>\n",
       "      <td>3981.01</td>\n",
       "      <td>a</td>\n",
       "      <td>new</td>\n",
       "      <td>2</td>\n",
       "    </tr>\n",
       "    <tr>\n",
       "      <th>997</th>\n",
       "      <td>997</td>\n",
       "      <td>1997</td>\n",
       "      <td>2016-03-02</td>\n",
       "      <td>5207</td>\n",
       "      <td>486</td>\n",
       "      <td>39</td>\n",
       "      <td>1504.26</td>\n",
       "      <td>c</td>\n",
       "      <td>existing</td>\n",
       "      <td>9</td>\n",
       "    </tr>\n",
       "    <tr>\n",
       "      <th>998</th>\n",
       "      <td>998</td>\n",
       "      <td>1998</td>\n",
       "      <td>2016-03-02</td>\n",
       "      <td>5208</td>\n",
       "      <td>259</td>\n",
       "      <td>24</td>\n",
       "      <td>2452.02</td>\n",
       "      <td>a</td>\n",
       "      <td>new</td>\n",
       "      <td>9</td>\n",
       "    </tr>\n",
       "    <tr>\n",
       "      <th>999</th>\n",
       "      <td>999</td>\n",
       "      <td>1999</td>\n",
       "      <td>2016-08-02</td>\n",
       "      <td>5806</td>\n",
       "      <td>991</td>\n",
       "      <td>25</td>\n",
       "      <td>1636.71</td>\n",
       "      <td>c</td>\n",
       "      <td>existing</td>\n",
       "      <td>31</td>\n",
       "    </tr>\n",
       "  </tbody>\n",
       "</table>\n",
       "<p>969 rows × 10 columns</p>\n",
       "</div>"
      ],
      "text/plain": [
       "     unnamed:_0  serial_no       date  user_id  product_id  \\\n",
       "0             0       1000 2016-02-02     -101           0   \n",
       "3             3       1003 2016-06-02     5964         827   \n",
       "6             6       1006 2016-01-26     5710         271   \n",
       "8             8         -1 2016-01-30     5718         451   \n",
       "13           13       1013 2016-05-02     5801         783   \n",
       "..          ...        ...        ...      ...         ...   \n",
       "995         995       1995 2016-03-01     5801         553   \n",
       "996         996       1996 2016-01-14     5751         961   \n",
       "997         997       1997 2016-03-02     5207         486   \n",
       "998         998       1998 2016-03-02     5208         259   \n",
       "999         999       1999 2016-08-02     5806         991   \n",
       "\n",
       "     quantity_purchased    price user_type      user_class  purchase_week  \n",
       "0                    10  1576.89         n           error              5  \n",
       "3                    24  4008.96         n           error             22  \n",
       "6                    38  1559.14         n           error              4  \n",
       "8                    17  3918.11         n           error              4  \n",
       "13                    2  6068.04         n           error             18  \n",
       "..                  ...      ...       ...             ...            ...  \n",
       "995                  28  2700.14         d  loyal_existing              9  \n",
       "996                  20  3981.01         a             new              2  \n",
       "997                  39  1504.26         c        existing              9  \n",
       "998                  24  2452.02         a             new              9  \n",
       "999                  25  1636.71         c        existing             31  \n",
       "\n",
       "[969 rows x 10 columns]"
      ]
     },
     "execution_count": 177,
     "metadata": {},
     "output_type": "execute_result"
    }
   ],
   "source": [
    "df_dropped[\"user_type\"].fillna(method=\"bfill\", inplace=True)\n",
    "df_dropped"
   ]
  },
  {
   "cell_type": "markdown",
   "metadata": {},
   "source": [
    "El método bfill (backward fill) completa los valores NaN pero con el valor de la fila anterior."
   ]
  },
  {
   "cell_type": "code",
   "execution_count": 178,
   "metadata": {},
   "outputs": [
    {
     "data": {
      "text/html": [
       "<div>\n",
       "<style scoped>\n",
       "    .dataframe tbody tr th:only-of-type {\n",
       "        vertical-align: middle;\n",
       "    }\n",
       "\n",
       "    .dataframe tbody tr th {\n",
       "        vertical-align: top;\n",
       "    }\n",
       "\n",
       "    .dataframe thead th {\n",
       "        text-align: right;\n",
       "    }\n",
       "</style>\n",
       "<table border=\"1\" class=\"dataframe\">\n",
       "  <thead>\n",
       "    <tr style=\"text-align: right;\">\n",
       "      <th></th>\n",
       "      <th>unnamed:_0</th>\n",
       "      <th>serial_no</th>\n",
       "      <th>date</th>\n",
       "      <th>user_id</th>\n",
       "      <th>product_id</th>\n",
       "      <th>quantity_purchased</th>\n",
       "      <th>price</th>\n",
       "      <th>user_type</th>\n",
       "      <th>user_class</th>\n",
       "      <th>purchase_week</th>\n",
       "    </tr>\n",
       "  </thead>\n",
       "  <tbody>\n",
       "    <tr>\n",
       "      <th>22</th>\n",
       "      <td>22</td>\n",
       "      <td>-1</td>\n",
       "      <td>2016-01-19</td>\n",
       "      <td>5321</td>\n",
       "      <td>466</td>\n",
       "      <td>2</td>\n",
       "      <td>2572.24</td>\n",
       "      <td>d</td>\n",
       "      <td>loyal_existing</td>\n",
       "      <td>3</td>\n",
       "    </tr>\n",
       "    <tr>\n",
       "      <th>54</th>\n",
       "      <td>54</td>\n",
       "      <td>-1</td>\n",
       "      <td>2016-03-02</td>\n",
       "      <td>5339</td>\n",
       "      <td>266</td>\n",
       "      <td>2</td>\n",
       "      <td>854.30</td>\n",
       "      <td>a</td>\n",
       "      <td>new</td>\n",
       "      <td>9</td>\n",
       "    </tr>\n",
       "    <tr>\n",
       "      <th>91</th>\n",
       "      <td>91</td>\n",
       "      <td>-1</td>\n",
       "      <td>2016-04-02</td>\n",
       "      <td>5091</td>\n",
       "      <td>178</td>\n",
       "      <td>34</td>\n",
       "      <td>471.40</td>\n",
       "      <td>c</td>\n",
       "      <td>existing</td>\n",
       "      <td>13</td>\n",
       "    </tr>\n",
       "    <tr>\n",
       "      <th>106</th>\n",
       "      <td>106</td>\n",
       "      <td>-1</td>\n",
       "      <td>2016-07-02</td>\n",
       "      <td>5710</td>\n",
       "      <td>271</td>\n",
       "      <td>37</td>\n",
       "      <td>949.03</td>\n",
       "      <td>c</td>\n",
       "      <td>existing</td>\n",
       "      <td>26</td>\n",
       "    </tr>\n",
       "    <tr>\n",
       "      <th>158</th>\n",
       "      <td>158</td>\n",
       "      <td>-1</td>\n",
       "      <td>2016-01-17</td>\n",
       "      <td>5805</td>\n",
       "      <td>674</td>\n",
       "      <td>7</td>\n",
       "      <td>519.93</td>\n",
       "      <td>d</td>\n",
       "      <td>loyal_existing</td>\n",
       "      <td>2</td>\n",
       "    </tr>\n",
       "    <tr>\n",
       "      <th>188</th>\n",
       "      <td>188</td>\n",
       "      <td>-1</td>\n",
       "      <td>2016-04-01</td>\n",
       "      <td>5983</td>\n",
       "      <td>365</td>\n",
       "      <td>20</td>\n",
       "      <td>5024.93</td>\n",
       "      <td>a</td>\n",
       "      <td>new</td>\n",
       "      <td>13</td>\n",
       "    </tr>\n",
       "    <tr>\n",
       "      <th>194</th>\n",
       "      <td>194</td>\n",
       "      <td>-1</td>\n",
       "      <td>2016-01-16</td>\n",
       "      <td>5554</td>\n",
       "      <td>132</td>\n",
       "      <td>29</td>\n",
       "      <td>318.87</td>\n",
       "      <td>d</td>\n",
       "      <td>loyal_existing</td>\n",
       "      <td>2</td>\n",
       "    </tr>\n",
       "    <tr>\n",
       "      <th>292</th>\n",
       "      <td>292</td>\n",
       "      <td>-1</td>\n",
       "      <td>2016-03-01</td>\n",
       "      <td>5260</td>\n",
       "      <td>1015</td>\n",
       "      <td>6</td>\n",
       "      <td>23.50</td>\n",
       "      <td>b</td>\n",
       "      <td>new</td>\n",
       "      <td>9</td>\n",
       "    </tr>\n",
       "    <tr>\n",
       "      <th>325</th>\n",
       "      <td>325</td>\n",
       "      <td>-1</td>\n",
       "      <td>2016-01-20</td>\n",
       "      <td>5692</td>\n",
       "      <td>371</td>\n",
       "      <td>39</td>\n",
       "      <td>5103.98</td>\n",
       "      <td>a</td>\n",
       "      <td>new</td>\n",
       "      <td>3</td>\n",
       "    </tr>\n",
       "    <tr>\n",
       "      <th>374</th>\n",
       "      <td>374</td>\n",
       "      <td>-1</td>\n",
       "      <td>2016-05-01</td>\n",
       "      <td>5006</td>\n",
       "      <td>365</td>\n",
       "      <td>33</td>\n",
       "      <td>2082.19</td>\n",
       "      <td>c</td>\n",
       "      <td>existing</td>\n",
       "      <td>17</td>\n",
       "    </tr>\n",
       "    <tr>\n",
       "      <th>378</th>\n",
       "      <td>378</td>\n",
       "      <td>-1</td>\n",
       "      <td>2016-01-29</td>\n",
       "      <td>5056</td>\n",
       "      <td>1010</td>\n",
       "      <td>18</td>\n",
       "      <td>3078.31</td>\n",
       "      <td>b</td>\n",
       "      <td>new</td>\n",
       "      <td>4</td>\n",
       "    </tr>\n",
       "    <tr>\n",
       "      <th>391</th>\n",
       "      <td>391</td>\n",
       "      <td>-1</td>\n",
       "      <td>2016-01-27</td>\n",
       "      <td>5091</td>\n",
       "      <td>178</td>\n",
       "      <td>8</td>\n",
       "      <td>435.85</td>\n",
       "      <td>c</td>\n",
       "      <td>existing</td>\n",
       "      <td>4</td>\n",
       "    </tr>\n",
       "    <tr>\n",
       "      <th>395</th>\n",
       "      <td>395</td>\n",
       "      <td>-1</td>\n",
       "      <td>2016-06-02</td>\n",
       "      <td>5801</td>\n",
       "      <td>553</td>\n",
       "      <td>8</td>\n",
       "      <td>4469.63</td>\n",
       "      <td>a</td>\n",
       "      <td>new</td>\n",
       "      <td>22</td>\n",
       "    </tr>\n",
       "    <tr>\n",
       "      <th>407</th>\n",
       "      <td>407</td>\n",
       "      <td>-1</td>\n",
       "      <td>2016-01-14</td>\n",
       "      <td>5225</td>\n",
       "      <td>1095</td>\n",
       "      <td>11</td>\n",
       "      <td>4997.52</td>\n",
       "      <td>d</td>\n",
       "      <td>loyal_existing</td>\n",
       "      <td>2</td>\n",
       "    </tr>\n",
       "    <tr>\n",
       "      <th>415</th>\n",
       "      <td>415</td>\n",
       "      <td>-1</td>\n",
       "      <td>2016-07-02</td>\n",
       "      <td>5129</td>\n",
       "      <td>317</td>\n",
       "      <td>2</td>\n",
       "      <td>1460.74</td>\n",
       "      <td>d</td>\n",
       "      <td>loyal_existing</td>\n",
       "      <td>26</td>\n",
       "    </tr>\n",
       "    <tr>\n",
       "      <th>440</th>\n",
       "      <td>440</td>\n",
       "      <td>-1</td>\n",
       "      <td>2016-01-01</td>\n",
       "      <td>5020</td>\n",
       "      <td>275</td>\n",
       "      <td>15</td>\n",
       "      <td>2352.94</td>\n",
       "      <td>b</td>\n",
       "      <td>new</td>\n",
       "      <td>53</td>\n",
       "    </tr>\n",
       "    <tr>\n",
       "      <th>465</th>\n",
       "      <td>465</td>\n",
       "      <td>-1</td>\n",
       "      <td>2016-01-19</td>\n",
       "      <td>5922</td>\n",
       "      <td>571</td>\n",
       "      <td>30</td>\n",
       "      <td>879.04</td>\n",
       "      <td>b</td>\n",
       "      <td>new</td>\n",
       "      <td>3</td>\n",
       "    </tr>\n",
       "    <tr>\n",
       "      <th>521</th>\n",
       "      <td>521</td>\n",
       "      <td>-1</td>\n",
       "      <td>2016-01-29</td>\n",
       "      <td>5985</td>\n",
       "      <td>314</td>\n",
       "      <td>19</td>\n",
       "      <td>412.18</td>\n",
       "      <td>b</td>\n",
       "      <td>new</td>\n",
       "      <td>4</td>\n",
       "    </tr>\n",
       "    <tr>\n",
       "      <th>537</th>\n",
       "      <td>537</td>\n",
       "      <td>-1</td>\n",
       "      <td>2016-05-01</td>\n",
       "      <td>5903</td>\n",
       "      <td>707</td>\n",
       "      <td>39</td>\n",
       "      <td>1847.04</td>\n",
       "      <td>d</td>\n",
       "      <td>loyal_existing</td>\n",
       "      <td>17</td>\n",
       "    </tr>\n",
       "    <tr>\n",
       "      <th>556</th>\n",
       "      <td>556</td>\n",
       "      <td>-1</td>\n",
       "      <td>2016-04-01</td>\n",
       "      <td>5737</td>\n",
       "      <td>537</td>\n",
       "      <td>10</td>\n",
       "      <td>43.55</td>\n",
       "      <td>d</td>\n",
       "      <td>loyal_existing</td>\n",
       "      <td>13</td>\n",
       "    </tr>\n",
       "    <tr>\n",
       "      <th>674</th>\n",
       "      <td>674</td>\n",
       "      <td>-1</td>\n",
       "      <td>2016-01-22</td>\n",
       "      <td>5006</td>\n",
       "      <td>365</td>\n",
       "      <td>14</td>\n",
       "      <td>185.62</td>\n",
       "      <td>d</td>\n",
       "      <td>loyal_existing</td>\n",
       "      <td>3</td>\n",
       "    </tr>\n",
       "    <tr>\n",
       "      <th>738</th>\n",
       "      <td>738</td>\n",
       "      <td>-1</td>\n",
       "      <td>2016-01-21</td>\n",
       "      <td>5092</td>\n",
       "      <td>698</td>\n",
       "      <td>36</td>\n",
       "      <td>5014.49</td>\n",
       "      <td>b</td>\n",
       "      <td>new</td>\n",
       "      <td>3</td>\n",
       "    </tr>\n",
       "    <tr>\n",
       "      <th>799</th>\n",
       "      <td>799</td>\n",
       "      <td>-1</td>\n",
       "      <td>2016-01-22</td>\n",
       "      <td>5806</td>\n",
       "      <td>991</td>\n",
       "      <td>30</td>\n",
       "      <td>1553.44</td>\n",
       "      <td>c</td>\n",
       "      <td>existing</td>\n",
       "      <td>3</td>\n",
       "    </tr>\n",
       "    <tr>\n",
       "      <th>859</th>\n",
       "      <td>859</td>\n",
       "      <td>-1</td>\n",
       "      <td>2016-11-02</td>\n",
       "      <td>5855</td>\n",
       "      <td>849</td>\n",
       "      <td>33</td>\n",
       "      <td>4125.58</td>\n",
       "      <td>c</td>\n",
       "      <td>existing</td>\n",
       "      <td>44</td>\n",
       "    </tr>\n",
       "    <tr>\n",
       "      <th>865</th>\n",
       "      <td>865</td>\n",
       "      <td>-1</td>\n",
       "      <td>2016-07-02</td>\n",
       "      <td>5922</td>\n",
       "      <td>571</td>\n",
       "      <td>39</td>\n",
       "      <td>397.23</td>\n",
       "      <td>a</td>\n",
       "      <td>new</td>\n",
       "      <td>26</td>\n",
       "    </tr>\n",
       "    <tr>\n",
       "      <th>914</th>\n",
       "      <td>914</td>\n",
       "      <td>-1</td>\n",
       "      <td>2016-06-01</td>\n",
       "      <td>5897</td>\n",
       "      <td>488</td>\n",
       "      <td>26</td>\n",
       "      <td>1753.53</td>\n",
       "      <td>b</td>\n",
       "      <td>new</td>\n",
       "      <td>22</td>\n",
       "    </tr>\n",
       "    <tr>\n",
       "      <th>916</th>\n",
       "      <td>916</td>\n",
       "      <td>-1</td>\n",
       "      <td>2016-01-24</td>\n",
       "      <td>5942</td>\n",
       "      <td>113</td>\n",
       "      <td>15</td>\n",
       "      <td>1076.92</td>\n",
       "      <td>a</td>\n",
       "      <td>new</td>\n",
       "      <td>3</td>\n",
       "    </tr>\n",
       "    <tr>\n",
       "      <th>970</th>\n",
       "      <td>970</td>\n",
       "      <td>-1</td>\n",
       "      <td>2016-01-17</td>\n",
       "      <td>5247</td>\n",
       "      <td>587</td>\n",
       "      <td>17</td>\n",
       "      <td>670.00</td>\n",
       "      <td>c</td>\n",
       "      <td>existing</td>\n",
       "      <td>2</td>\n",
       "    </tr>\n",
       "    <tr>\n",
       "      <th>975</th>\n",
       "      <td>975</td>\n",
       "      <td>-1</td>\n",
       "      <td>2016-03-02</td>\n",
       "      <td>5257</td>\n",
       "      <td>924</td>\n",
       "      <td>26</td>\n",
       "      <td>1723.52</td>\n",
       "      <td>b</td>\n",
       "      <td>new</td>\n",
       "      <td>9</td>\n",
       "    </tr>\n",
       "  </tbody>\n",
       "</table>\n",
       "</div>"
      ],
      "text/plain": [
       "     unnamed:_0  serial_no       date  user_id  product_id  \\\n",
       "22           22         -1 2016-01-19     5321         466   \n",
       "54           54         -1 2016-03-02     5339         266   \n",
       "91           91         -1 2016-04-02     5091         178   \n",
       "106         106         -1 2016-07-02     5710         271   \n",
       "158         158         -1 2016-01-17     5805         674   \n",
       "188         188         -1 2016-04-01     5983         365   \n",
       "194         194         -1 2016-01-16     5554         132   \n",
       "292         292         -1 2016-03-01     5260        1015   \n",
       "325         325         -1 2016-01-20     5692         371   \n",
       "374         374         -1 2016-05-01     5006         365   \n",
       "378         378         -1 2016-01-29     5056        1010   \n",
       "391         391         -1 2016-01-27     5091         178   \n",
       "395         395         -1 2016-06-02     5801         553   \n",
       "407         407         -1 2016-01-14     5225        1095   \n",
       "415         415         -1 2016-07-02     5129         317   \n",
       "440         440         -1 2016-01-01     5020         275   \n",
       "465         465         -1 2016-01-19     5922         571   \n",
       "521         521         -1 2016-01-29     5985         314   \n",
       "537         537         -1 2016-05-01     5903         707   \n",
       "556         556         -1 2016-04-01     5737         537   \n",
       "674         674         -1 2016-01-22     5006         365   \n",
       "738         738         -1 2016-01-21     5092         698   \n",
       "799         799         -1 2016-01-22     5806         991   \n",
       "859         859         -1 2016-11-02     5855         849   \n",
       "865         865         -1 2016-07-02     5922         571   \n",
       "914         914         -1 2016-06-01     5897         488   \n",
       "916         916         -1 2016-01-24     5942         113   \n",
       "970         970         -1 2016-01-17     5247         587   \n",
       "975         975         -1 2016-03-02     5257         924   \n",
       "\n",
       "     quantity_purchased    price user_type      user_class  purchase_week  \n",
       "22                    2  2572.24         d  loyal_existing              3  \n",
       "54                    2   854.30         a             new              9  \n",
       "91                   34   471.40         c        existing             13  \n",
       "106                  37   949.03         c        existing             26  \n",
       "158                   7   519.93         d  loyal_existing              2  \n",
       "188                  20  5024.93         a             new             13  \n",
       "194                  29   318.87         d  loyal_existing              2  \n",
       "292                   6    23.50         b             new              9  \n",
       "325                  39  5103.98         a             new              3  \n",
       "374                  33  2082.19         c        existing             17  \n",
       "378                  18  3078.31         b             new              4  \n",
       "391                   8   435.85         c        existing              4  \n",
       "395                   8  4469.63         a             new             22  \n",
       "407                  11  4997.52         d  loyal_existing              2  \n",
       "415                   2  1460.74         d  loyal_existing             26  \n",
       "440                  15  2352.94         b             new             53  \n",
       "465                  30   879.04         b             new              3  \n",
       "521                  19   412.18         b             new              4  \n",
       "537                  39  1847.04         d  loyal_existing             17  \n",
       "556                  10    43.55         d  loyal_existing             13  \n",
       "674                  14   185.62         d  loyal_existing              3  \n",
       "738                  36  5014.49         b             new              3  \n",
       "799                  30  1553.44         c        existing              3  \n",
       "859                  33  4125.58         c        existing             44  \n",
       "865                  39   397.23         a             new             26  \n",
       "914                  26  1753.53         b             new             22  \n",
       "916                  15  1076.92         a             new              3  \n",
       "970                  17   670.00         c        existing              2  \n",
       "975                  26  1723.52         b             new              9  "
      ]
     },
     "execution_count": 178,
     "metadata": {},
     "output_type": "execute_result"
    }
   ],
   "source": [
    "df_dropped[df_dropped.duplicated(subset=[\"serial_no\"])]"
   ]
  },
  {
   "cell_type": "markdown",
   "metadata": {},
   "source": [
    "Acá nos muestra las filas donde la columna series_no está duplicada de valores"
   ]
  },
  {
   "cell_type": "code",
   "execution_count": 179,
   "metadata": {},
   "outputs": [
    {
     "name": "stderr",
     "output_type": "stream",
     "text": [
      "<ipython-input-179-a7b08f996ad9>:1: SettingWithCopyWarning: \n",
      "A value is trying to be set on a copy of a slice from a DataFrame\n",
      "\n",
      "See the caveats in the documentation: https://pandas.pydata.org/pandas-docs/stable/user_guide/indexing.html#returning-a-view-versus-a-copy\n",
      "  df_dropped.drop_duplicates(subset=[\"serial_no\"], inplace=True)\n"
     ]
    }
   ],
   "source": [
    "df_dropped.drop_duplicates(subset=[\"serial_no\"], inplace=True)"
   ]
  },
  {
   "cell_type": "markdown",
   "metadata": {},
   "source": [
    "En la línea de arriba se eliminan las filas donde los valores de serial_no están duplicados."
   ]
  },
  {
   "cell_type": "code",
   "execution_count": 180,
   "metadata": {},
   "outputs": [
    {
     "data": {
      "text/html": [
       "<div>\n",
       "<style scoped>\n",
       "    .dataframe tbody tr th:only-of-type {\n",
       "        vertical-align: middle;\n",
       "    }\n",
       "\n",
       "    .dataframe tbody tr th {\n",
       "        vertical-align: top;\n",
       "    }\n",
       "\n",
       "    .dataframe thead th {\n",
       "        text-align: right;\n",
       "    }\n",
       "</style>\n",
       "<table border=\"1\" class=\"dataframe\">\n",
       "  <thead>\n",
       "    <tr style=\"text-align: right;\">\n",
       "      <th></th>\n",
       "      <th>unnamed:_0</th>\n",
       "      <th>serial_no</th>\n",
       "      <th>date</th>\n",
       "      <th>user_id</th>\n",
       "      <th>product_id</th>\n",
       "      <th>quantity_purchased</th>\n",
       "      <th>price</th>\n",
       "      <th>user_type</th>\n",
       "      <th>user_class</th>\n",
       "      <th>purchase_week</th>\n",
       "      <th>encoded_user_type</th>\n",
       "    </tr>\n",
       "  </thead>\n",
       "  <tbody>\n",
       "    <tr>\n",
       "      <th>0</th>\n",
       "      <td>0</td>\n",
       "      <td>1000</td>\n",
       "      <td>2016-02-02</td>\n",
       "      <td>-101</td>\n",
       "      <td>0</td>\n",
       "      <td>10</td>\n",
       "      <td>1576.89</td>\n",
       "      <td>n</td>\n",
       "      <td>error</td>\n",
       "      <td>5</td>\n",
       "      <td>NaN</td>\n",
       "    </tr>\n",
       "    <tr>\n",
       "      <th>1</th>\n",
       "      <td>1</td>\n",
       "      <td>1001</td>\n",
       "      <td>NaT</td>\n",
       "      <td>5901</td>\n",
       "      <td>969</td>\n",
       "      <td>35</td>\n",
       "      <td>4286.64</td>\n",
       "      <td>n</td>\n",
       "      <td>error</td>\n",
       "      <td>0</td>\n",
       "      <td>NaN</td>\n",
       "    </tr>\n",
       "    <tr>\n",
       "      <th>2</th>\n",
       "      <td>2</td>\n",
       "      <td>1002</td>\n",
       "      <td>NaT</td>\n",
       "      <td>5510</td>\n",
       "      <td>188</td>\n",
       "      <td>20</td>\n",
       "      <td>3022.26</td>\n",
       "      <td>n</td>\n",
       "      <td>error</td>\n",
       "      <td>0</td>\n",
       "      <td>NaN</td>\n",
       "    </tr>\n",
       "    <tr>\n",
       "      <th>3</th>\n",
       "      <td>3</td>\n",
       "      <td>1003</td>\n",
       "      <td>2016-06-02</td>\n",
       "      <td>5964</td>\n",
       "      <td>827</td>\n",
       "      <td>24</td>\n",
       "      <td>4008.96</td>\n",
       "      <td>n</td>\n",
       "      <td>error</td>\n",
       "      <td>22</td>\n",
       "      <td>NaN</td>\n",
       "    </tr>\n",
       "    <tr>\n",
       "      <th>4</th>\n",
       "      <td>4</td>\n",
       "      <td>1004</td>\n",
       "      <td>NaT</td>\n",
       "      <td>5386</td>\n",
       "      <td>915</td>\n",
       "      <td>39</td>\n",
       "      <td>6604.64</td>\n",
       "      <td>n</td>\n",
       "      <td>error</td>\n",
       "      <td>0</td>\n",
       "      <td>NaN</td>\n",
       "    </tr>\n",
       "    <tr>\n",
       "      <th>...</th>\n",
       "      <td>...</td>\n",
       "      <td>...</td>\n",
       "      <td>...</td>\n",
       "      <td>...</td>\n",
       "      <td>...</td>\n",
       "      <td>...</td>\n",
       "      <td>...</td>\n",
       "      <td>...</td>\n",
       "      <td>...</td>\n",
       "      <td>...</td>\n",
       "      <td>...</td>\n",
       "    </tr>\n",
       "    <tr>\n",
       "      <th>995</th>\n",
       "      <td>995</td>\n",
       "      <td>1995</td>\n",
       "      <td>2016-03-01</td>\n",
       "      <td>5801</td>\n",
       "      <td>553</td>\n",
       "      <td>28</td>\n",
       "      <td>2700.14</td>\n",
       "      <td>d</td>\n",
       "      <td>loyal_existing</td>\n",
       "      <td>9</td>\n",
       "      <td>3.0</td>\n",
       "    </tr>\n",
       "    <tr>\n",
       "      <th>996</th>\n",
       "      <td>996</td>\n",
       "      <td>1996</td>\n",
       "      <td>2016-01-14</td>\n",
       "      <td>5751</td>\n",
       "      <td>961</td>\n",
       "      <td>20</td>\n",
       "      <td>3981.01</td>\n",
       "      <td>a</td>\n",
       "      <td>new</td>\n",
       "      <td>2</td>\n",
       "      <td>0.0</td>\n",
       "    </tr>\n",
       "    <tr>\n",
       "      <th>997</th>\n",
       "      <td>997</td>\n",
       "      <td>1997</td>\n",
       "      <td>2016-03-02</td>\n",
       "      <td>5207</td>\n",
       "      <td>486</td>\n",
       "      <td>39</td>\n",
       "      <td>1504.26</td>\n",
       "      <td>c</td>\n",
       "      <td>existing</td>\n",
       "      <td>9</td>\n",
       "      <td>2.0</td>\n",
       "    </tr>\n",
       "    <tr>\n",
       "      <th>998</th>\n",
       "      <td>998</td>\n",
       "      <td>1998</td>\n",
       "      <td>2016-03-02</td>\n",
       "      <td>5208</td>\n",
       "      <td>259</td>\n",
       "      <td>24</td>\n",
       "      <td>2452.02</td>\n",
       "      <td>a</td>\n",
       "      <td>new</td>\n",
       "      <td>9</td>\n",
       "      <td>0.0</td>\n",
       "    </tr>\n",
       "    <tr>\n",
       "      <th>999</th>\n",
       "      <td>999</td>\n",
       "      <td>1999</td>\n",
       "      <td>2016-08-02</td>\n",
       "      <td>5806</td>\n",
       "      <td>991</td>\n",
       "      <td>25</td>\n",
       "      <td>1636.71</td>\n",
       "      <td>c</td>\n",
       "      <td>existing</td>\n",
       "      <td>31</td>\n",
       "      <td>2.0</td>\n",
       "    </tr>\n",
       "  </tbody>\n",
       "</table>\n",
       "<p>1000 rows × 11 columns</p>\n",
       "</div>"
      ],
      "text/plain": [
       "     unnamed:_0  serial_no       date  user_id  product_id  \\\n",
       "0             0       1000 2016-02-02     -101           0   \n",
       "1             1       1001        NaT     5901         969   \n",
       "2             2       1002        NaT     5510         188   \n",
       "3             3       1003 2016-06-02     5964         827   \n",
       "4             4       1004        NaT     5386         915   \n",
       "..          ...        ...        ...      ...         ...   \n",
       "995         995       1995 2016-03-01     5801         553   \n",
       "996         996       1996 2016-01-14     5751         961   \n",
       "997         997       1997 2016-03-02     5207         486   \n",
       "998         998       1998 2016-03-02     5208         259   \n",
       "999         999       1999 2016-08-02     5806         991   \n",
       "\n",
       "     quantity_purchased    price user_type      user_class  purchase_week  \\\n",
       "0                    10  1576.89         n           error              5   \n",
       "1                    35  4286.64         n           error              0   \n",
       "2                    20  3022.26         n           error              0   \n",
       "3                    24  4008.96         n           error             22   \n",
       "4                    39  6604.64         n           error              0   \n",
       "..                  ...      ...       ...             ...            ...   \n",
       "995                  28  2700.14         d  loyal_existing              9   \n",
       "996                  20  3981.01         a             new              2   \n",
       "997                  39  1504.26         c        existing              9   \n",
       "998                  24  2452.02         a             new              9   \n",
       "999                  25  1636.71         c        existing             31   \n",
       "\n",
       "     encoded_user_type  \n",
       "0                  NaN  \n",
       "1                  NaN  \n",
       "2                  NaN  \n",
       "3                  NaN  \n",
       "4                  NaN  \n",
       "..                 ...  \n",
       "995                3.0  \n",
       "996                0.0  \n",
       "997                2.0  \n",
       "998                0.0  \n",
       "999                2.0  \n",
       "\n",
       "[1000 rows x 11 columns]"
      ]
     },
     "execution_count": 180,
     "metadata": {},
     "output_type": "execute_result"
    }
   ],
   "source": [
    "type_map={\"a\":0, \"b\":1, \"c\":2, \"d\":3, np.NAN: -1}\n",
    "df[\"encoded_user_type\"] = df.user_type.map(type_map)\n",
    "df"
   ]
  },
  {
   "cell_type": "markdown",
   "metadata": {},
   "source": [
    "Acá reemplazamos los valores categóricos por números. En este caso, según la letra en la que el usuario esté identificado, se le dará un valor numérico."
   ]
  },
  {
   "cell_type": "code",
   "execution_count": 181,
   "metadata": {},
   "outputs": [
    {
     "data": {
      "text/html": [
       "<div>\n",
       "<style scoped>\n",
       "    .dataframe tbody tr th:only-of-type {\n",
       "        vertical-align: middle;\n",
       "    }\n",
       "\n",
       "    .dataframe tbody tr th {\n",
       "        vertical-align: top;\n",
       "    }\n",
       "\n",
       "    .dataframe thead th {\n",
       "        text-align: right;\n",
       "    }\n",
       "</style>\n",
       "<table border=\"1\" class=\"dataframe\">\n",
       "  <thead>\n",
       "    <tr style=\"text-align: right;\">\n",
       "      <th></th>\n",
       "      <th>unnamed:_0</th>\n",
       "      <th>serial_no</th>\n",
       "      <th>date</th>\n",
       "      <th>user_id</th>\n",
       "      <th>product_id</th>\n",
       "      <th>quantity_purchased</th>\n",
       "      <th>price</th>\n",
       "      <th>user_class</th>\n",
       "      <th>purchase_week</th>\n",
       "      <th>encoded_user_type</th>\n",
       "      <th>user_type_a</th>\n",
       "      <th>user_type_b</th>\n",
       "      <th>user_type_c</th>\n",
       "      <th>user_type_d</th>\n",
       "      <th>user_type_n</th>\n",
       "    </tr>\n",
       "  </thead>\n",
       "  <tbody>\n",
       "    <tr>\n",
       "      <th>0</th>\n",
       "      <td>0</td>\n",
       "      <td>1000</td>\n",
       "      <td>2016-02-02</td>\n",
       "      <td>-101</td>\n",
       "      <td>0</td>\n",
       "      <td>10</td>\n",
       "      <td>1576.89</td>\n",
       "      <td>error</td>\n",
       "      <td>5</td>\n",
       "      <td>NaN</td>\n",
       "      <td>0</td>\n",
       "      <td>0</td>\n",
       "      <td>0</td>\n",
       "      <td>0</td>\n",
       "      <td>1</td>\n",
       "    </tr>\n",
       "    <tr>\n",
       "      <th>1</th>\n",
       "      <td>1</td>\n",
       "      <td>1001</td>\n",
       "      <td>NaT</td>\n",
       "      <td>5901</td>\n",
       "      <td>969</td>\n",
       "      <td>35</td>\n",
       "      <td>4286.64</td>\n",
       "      <td>error</td>\n",
       "      <td>0</td>\n",
       "      <td>NaN</td>\n",
       "      <td>0</td>\n",
       "      <td>0</td>\n",
       "      <td>0</td>\n",
       "      <td>0</td>\n",
       "      <td>1</td>\n",
       "    </tr>\n",
       "    <tr>\n",
       "      <th>2</th>\n",
       "      <td>2</td>\n",
       "      <td>1002</td>\n",
       "      <td>NaT</td>\n",
       "      <td>5510</td>\n",
       "      <td>188</td>\n",
       "      <td>20</td>\n",
       "      <td>3022.26</td>\n",
       "      <td>error</td>\n",
       "      <td>0</td>\n",
       "      <td>NaN</td>\n",
       "      <td>0</td>\n",
       "      <td>0</td>\n",
       "      <td>0</td>\n",
       "      <td>0</td>\n",
       "      <td>1</td>\n",
       "    </tr>\n",
       "    <tr>\n",
       "      <th>3</th>\n",
       "      <td>3</td>\n",
       "      <td>1003</td>\n",
       "      <td>2016-06-02</td>\n",
       "      <td>5964</td>\n",
       "      <td>827</td>\n",
       "      <td>24</td>\n",
       "      <td>4008.96</td>\n",
       "      <td>error</td>\n",
       "      <td>22</td>\n",
       "      <td>NaN</td>\n",
       "      <td>0</td>\n",
       "      <td>0</td>\n",
       "      <td>0</td>\n",
       "      <td>0</td>\n",
       "      <td>1</td>\n",
       "    </tr>\n",
       "    <tr>\n",
       "      <th>4</th>\n",
       "      <td>4</td>\n",
       "      <td>1004</td>\n",
       "      <td>NaT</td>\n",
       "      <td>5386</td>\n",
       "      <td>915</td>\n",
       "      <td>39</td>\n",
       "      <td>6604.64</td>\n",
       "      <td>error</td>\n",
       "      <td>0</td>\n",
       "      <td>NaN</td>\n",
       "      <td>0</td>\n",
       "      <td>0</td>\n",
       "      <td>0</td>\n",
       "      <td>0</td>\n",
       "      <td>1</td>\n",
       "    </tr>\n",
       "    <tr>\n",
       "      <th>...</th>\n",
       "      <td>...</td>\n",
       "      <td>...</td>\n",
       "      <td>...</td>\n",
       "      <td>...</td>\n",
       "      <td>...</td>\n",
       "      <td>...</td>\n",
       "      <td>...</td>\n",
       "      <td>...</td>\n",
       "      <td>...</td>\n",
       "      <td>...</td>\n",
       "      <td>...</td>\n",
       "      <td>...</td>\n",
       "      <td>...</td>\n",
       "      <td>...</td>\n",
       "      <td>...</td>\n",
       "    </tr>\n",
       "    <tr>\n",
       "      <th>995</th>\n",
       "      <td>995</td>\n",
       "      <td>1995</td>\n",
       "      <td>2016-03-01</td>\n",
       "      <td>5801</td>\n",
       "      <td>553</td>\n",
       "      <td>28</td>\n",
       "      <td>2700.14</td>\n",
       "      <td>loyal_existing</td>\n",
       "      <td>9</td>\n",
       "      <td>3.0</td>\n",
       "      <td>0</td>\n",
       "      <td>0</td>\n",
       "      <td>0</td>\n",
       "      <td>1</td>\n",
       "      <td>0</td>\n",
       "    </tr>\n",
       "    <tr>\n",
       "      <th>996</th>\n",
       "      <td>996</td>\n",
       "      <td>1996</td>\n",
       "      <td>2016-01-14</td>\n",
       "      <td>5751</td>\n",
       "      <td>961</td>\n",
       "      <td>20</td>\n",
       "      <td>3981.01</td>\n",
       "      <td>new</td>\n",
       "      <td>2</td>\n",
       "      <td>0.0</td>\n",
       "      <td>1</td>\n",
       "      <td>0</td>\n",
       "      <td>0</td>\n",
       "      <td>0</td>\n",
       "      <td>0</td>\n",
       "    </tr>\n",
       "    <tr>\n",
       "      <th>997</th>\n",
       "      <td>997</td>\n",
       "      <td>1997</td>\n",
       "      <td>2016-03-02</td>\n",
       "      <td>5207</td>\n",
       "      <td>486</td>\n",
       "      <td>39</td>\n",
       "      <td>1504.26</td>\n",
       "      <td>existing</td>\n",
       "      <td>9</td>\n",
       "      <td>2.0</td>\n",
       "      <td>0</td>\n",
       "      <td>0</td>\n",
       "      <td>1</td>\n",
       "      <td>0</td>\n",
       "      <td>0</td>\n",
       "    </tr>\n",
       "    <tr>\n",
       "      <th>998</th>\n",
       "      <td>998</td>\n",
       "      <td>1998</td>\n",
       "      <td>2016-03-02</td>\n",
       "      <td>5208</td>\n",
       "      <td>259</td>\n",
       "      <td>24</td>\n",
       "      <td>2452.02</td>\n",
       "      <td>new</td>\n",
       "      <td>9</td>\n",
       "      <td>0.0</td>\n",
       "      <td>1</td>\n",
       "      <td>0</td>\n",
       "      <td>0</td>\n",
       "      <td>0</td>\n",
       "      <td>0</td>\n",
       "    </tr>\n",
       "    <tr>\n",
       "      <th>999</th>\n",
       "      <td>999</td>\n",
       "      <td>1999</td>\n",
       "      <td>2016-08-02</td>\n",
       "      <td>5806</td>\n",
       "      <td>991</td>\n",
       "      <td>25</td>\n",
       "      <td>1636.71</td>\n",
       "      <td>existing</td>\n",
       "      <td>31</td>\n",
       "      <td>2.0</td>\n",
       "      <td>0</td>\n",
       "      <td>0</td>\n",
       "      <td>1</td>\n",
       "      <td>0</td>\n",
       "      <td>0</td>\n",
       "    </tr>\n",
       "  </tbody>\n",
       "</table>\n",
       "<p>1000 rows × 15 columns</p>\n",
       "</div>"
      ],
      "text/plain": [
       "     unnamed:_0  serial_no       date  user_id  product_id  \\\n",
       "0             0       1000 2016-02-02     -101           0   \n",
       "1             1       1001        NaT     5901         969   \n",
       "2             2       1002        NaT     5510         188   \n",
       "3             3       1003 2016-06-02     5964         827   \n",
       "4             4       1004        NaT     5386         915   \n",
       "..          ...        ...        ...      ...         ...   \n",
       "995         995       1995 2016-03-01     5801         553   \n",
       "996         996       1996 2016-01-14     5751         961   \n",
       "997         997       1997 2016-03-02     5207         486   \n",
       "998         998       1998 2016-03-02     5208         259   \n",
       "999         999       1999 2016-08-02     5806         991   \n",
       "\n",
       "     quantity_purchased    price      user_class  purchase_week  \\\n",
       "0                    10  1576.89           error              5   \n",
       "1                    35  4286.64           error              0   \n",
       "2                    20  3022.26           error              0   \n",
       "3                    24  4008.96           error             22   \n",
       "4                    39  6604.64           error              0   \n",
       "..                  ...      ...             ...            ...   \n",
       "995                  28  2700.14  loyal_existing              9   \n",
       "996                  20  3981.01             new              2   \n",
       "997                  39  1504.26        existing              9   \n",
       "998                  24  2452.02             new              9   \n",
       "999                  25  1636.71        existing             31   \n",
       "\n",
       "     encoded_user_type  user_type_a  user_type_b  user_type_c  user_type_d  \\\n",
       "0                  NaN            0            0            0            0   \n",
       "1                  NaN            0            0            0            0   \n",
       "2                  NaN            0            0            0            0   \n",
       "3                  NaN            0            0            0            0   \n",
       "4                  NaN            0            0            0            0   \n",
       "..                 ...          ...          ...          ...          ...   \n",
       "995                3.0            0            0            0            1   \n",
       "996                0.0            1            0            0            0   \n",
       "997                2.0            0            0            1            0   \n",
       "998                0.0            1            0            0            0   \n",
       "999                2.0            0            0            1            0   \n",
       "\n",
       "     user_type_n  \n",
       "0              1  \n",
       "1              1  \n",
       "2              1  \n",
       "3              1  \n",
       "4              1  \n",
       "..           ...  \n",
       "995            0  \n",
       "996            0  \n",
       "997            0  \n",
       "998            0  \n",
       "999            0  \n",
       "\n",
       "[1000 rows x 15 columns]"
      ]
     },
     "execution_count": 181,
     "metadata": {},
     "output_type": "execute_result"
    }
   ],
   "source": [
    "pd.get_dummies(df,columns=[\"user_type\"])"
   ]
  },
  {
   "cell_type": "markdown",
   "metadata": {},
   "source": [
    "En esta, en cambio, la función get_dummies lo que hace es crear nuevas columnas con cada categoría y darle un 1 si el usuario pertenece a esa categoría o un cero si no lo hace."
   ]
  },
  {
   "cell_type": "code",
   "execution_count": 182,
   "metadata": {},
   "outputs": [
    {
     "data": {
      "text/html": [
       "<div>\n",
       "<style scoped>\n",
       "    .dataframe tbody tr th:only-of-type {\n",
       "        vertical-align: middle;\n",
       "    }\n",
       "\n",
       "    .dataframe tbody tr th {\n",
       "        vertical-align: top;\n",
       "    }\n",
       "\n",
       "    .dataframe thead th {\n",
       "        text-align: right;\n",
       "    }\n",
       "</style>\n",
       "<table border=\"1\" class=\"dataframe\">\n",
       "  <thead>\n",
       "    <tr style=\"text-align: right;\">\n",
       "      <th></th>\n",
       "      <th>unnamed:_0</th>\n",
       "      <th>serial_no</th>\n",
       "      <th>date</th>\n",
       "      <th>user_id</th>\n",
       "      <th>product_id</th>\n",
       "      <th>quantity_purchased</th>\n",
       "      <th>price</th>\n",
       "      <th>user_type</th>\n",
       "      <th>user_class</th>\n",
       "      <th>purchase_week</th>\n",
       "      <th>encoded_user_type</th>\n",
       "      <th>normalized_price</th>\n",
       "    </tr>\n",
       "  </thead>\n",
       "  <tbody>\n",
       "    <tr>\n",
       "      <th>17</th>\n",
       "      <td>17</td>\n",
       "      <td>1017</td>\n",
       "      <td>2016-06-02</td>\n",
       "      <td>5486</td>\n",
       "      <td>400</td>\n",
       "      <td>1</td>\n",
       "      <td>2046.53</td>\n",
       "      <td>d</td>\n",
       "      <td>loyal_existing</td>\n",
       "      <td>22</td>\n",
       "      <td>3.0</td>\n",
       "      <td>0.261404</td>\n",
       "    </tr>\n",
       "    <tr>\n",
       "      <th>18</th>\n",
       "      <td>18</td>\n",
       "      <td>1018</td>\n",
       "      <td>2016-01-21</td>\n",
       "      <td>5229</td>\n",
       "      <td>833</td>\n",
       "      <td>18</td>\n",
       "      <td>963.05</td>\n",
       "      <td>d</td>\n",
       "      <td>loyal_existing</td>\n",
       "      <td>3</td>\n",
       "      <td>3.0</td>\n",
       "      <td>0.122820</td>\n",
       "    </tr>\n",
       "    <tr>\n",
       "      <th>19</th>\n",
       "      <td>19</td>\n",
       "      <td>1019</td>\n",
       "      <td>2016-02-02</td>\n",
       "      <td>5941</td>\n",
       "      <td>209</td>\n",
       "      <td>38</td>\n",
       "      <td>1651.43</td>\n",
       "      <td>b</td>\n",
       "      <td>new</td>\n",
       "      <td>5</td>\n",
       "      <td>1.0</td>\n",
       "      <td>0.210868</td>\n",
       "    </tr>\n",
       "    <tr>\n",
       "      <th>22</th>\n",
       "      <td>22</td>\n",
       "      <td>-1</td>\n",
       "      <td>2016-01-19</td>\n",
       "      <td>5321</td>\n",
       "      <td>466</td>\n",
       "      <td>2</td>\n",
       "      <td>2572.24</td>\n",
       "      <td>d</td>\n",
       "      <td>loyal_existing</td>\n",
       "      <td>3</td>\n",
       "      <td>3.0</td>\n",
       "      <td>0.328645</td>\n",
       "    </tr>\n",
       "    <tr>\n",
       "      <th>26</th>\n",
       "      <td>26</td>\n",
       "      <td>1026</td>\n",
       "      <td>2016-03-01</td>\n",
       "      <td>5477</td>\n",
       "      <td>708</td>\n",
       "      <td>26</td>\n",
       "      <td>884.75</td>\n",
       "      <td>d</td>\n",
       "      <td>loyal_existing</td>\n",
       "      <td>9</td>\n",
       "      <td>3.0</td>\n",
       "      <td>0.112805</td>\n",
       "    </tr>\n",
       "  </tbody>\n",
       "</table>\n",
       "</div>"
      ],
      "text/plain": [
       "    unnamed:_0  serial_no       date  user_id  product_id  quantity_purchased  \\\n",
       "17          17       1017 2016-06-02     5486         400                   1   \n",
       "18          18       1018 2016-01-21     5229         833                  18   \n",
       "19          19       1019 2016-02-02     5941         209                  38   \n",
       "22          22         -1 2016-01-19     5321         466                   2   \n",
       "26          26       1026 2016-03-01     5477         708                  26   \n",
       "\n",
       "      price user_type      user_class  purchase_week  encoded_user_type  \\\n",
       "17  2046.53         d  loyal_existing             22                3.0   \n",
       "18   963.05         d  loyal_existing              3                3.0   \n",
       "19  1651.43         b             new              5                1.0   \n",
       "22  2572.24         d  loyal_existing              3                3.0   \n",
       "26   884.75         d  loyal_existing              9                3.0   \n",
       "\n",
       "    normalized_price  \n",
       "17          0.261404  \n",
       "18          0.122820  \n",
       "19          0.210868  \n",
       "22          0.328645  \n",
       "26          0.112805  "
      ]
     },
     "execution_count": 182,
     "metadata": {},
     "output_type": "execute_result"
    }
   ],
   "source": [
    "df_normalized = df.dropna().copy()\n",
    "min_max_scaler = preprocessing.MinMaxScaler()\n",
    "np_scaled = min_max_scaler.fit_transform(df_normalized[\"price\"].values.reshape(-1,1))\n",
    "df_normalized[\"normalized_price\"] = np_scaled.reshape(-1,1)\n",
    "\n",
    "df_normalized.head()"
   ]
  },
  {
   "cell_type": "code",
   "execution_count": 185,
   "metadata": {},
   "outputs": [
    {
     "data": {
      "text/plain": [
       "2261.04487394958"
      ]
     },
     "execution_count": 185,
     "metadata": {},
     "output_type": "execute_result"
    }
   ],
   "source": [
    "df[\"price\"][df[\"user_type\"] == \"a\"].mean()"
   ]
  },
  {
   "cell_type": "markdown",
   "metadata": {},
   "source": [
    "Esta línea nos indica el precio medio de los compradores tipo \"a\""
   ]
  },
  {
   "cell_type": "code",
   "execution_count": 187,
   "metadata": {},
   "outputs": [
    {
     "data": {
      "text/plain": [
       "4     152\n",
       "3     146\n",
       "2     117\n",
       "5      52\n",
       "39     51\n",
       "31     50\n",
       "13     50\n",
       "26     49\n",
       "9      49\n",
       "22     46\n",
       "53     44\n",
       "35     43\n",
       "48     39\n",
       "0      31\n",
       "44     30\n",
       "18     27\n",
       "17     24\n",
       "Name: purchase_week, dtype: int64"
      ]
     },
     "execution_count": 187,
     "metadata": {},
     "output_type": "execute_result"
    }
   ],
   "source": [
    "df[\"purchase_week\"].value_counts()"
   ]
  },
  {
   "cell_type": "markdown",
   "metadata": {},
   "source": [
    "value_counts nos indica la cantidad de valores diferentes que hay en una columna, en este caso purchase_week"
   ]
  },
  {
   "cell_type": "code",
   "execution_count": 191,
   "metadata": {},
   "outputs": [
    {
     "data": {
      "text/plain": [
       "user_class\n",
       "error               631\n",
       "existing           4932\n",
       "loyal_existing     5040\n",
       "new               10761\n",
       "Name: quantity_purchased, dtype: int64"
      ]
     },
     "execution_count": 191,
     "metadata": {},
     "output_type": "execute_result"
    }
   ],
   "source": [
    "df.groupby([\"user_class\"])[\"quantity_purchased\"].sum()"
   ]
  },
  {
   "cell_type": "markdown",
   "metadata": {},
   "source": [
    "Esta linea indica la cantidad comprada según la clase del usuario."
   ]
  },
  {
   "cell_type": "code",
   "execution_count": 193,
   "metadata": {},
   "outputs": [
    {
     "data": {
      "text/html": [
       "<div>\n",
       "<style scoped>\n",
       "    .dataframe tbody tr th:only-of-type {\n",
       "        vertical-align: middle;\n",
       "    }\n",
       "\n",
       "    .dataframe tbody tr th {\n",
       "        vertical-align: top;\n",
       "    }\n",
       "\n",
       "    .dataframe thead th {\n",
       "        text-align: right;\n",
       "    }\n",
       "</style>\n",
       "<table border=\"1\" class=\"dataframe\">\n",
       "  <thead>\n",
       "    <tr style=\"text-align: right;\">\n",
       "      <th></th>\n",
       "      <th>sum</th>\n",
       "      <th>mean</th>\n",
       "      <th>count_nonzero</th>\n",
       "    </tr>\n",
       "    <tr>\n",
       "      <th>user_class</th>\n",
       "      <th></th>\n",
       "      <th></th>\n",
       "      <th></th>\n",
       "    </tr>\n",
       "  </thead>\n",
       "  <tbody>\n",
       "    <tr>\n",
       "      <th>error</th>\n",
       "      <td>631</td>\n",
       "      <td>20.354839</td>\n",
       "      <td>31</td>\n",
       "    </tr>\n",
       "    <tr>\n",
       "      <th>existing</th>\n",
       "      <td>4932</td>\n",
       "      <td>21.537118</td>\n",
       "      <td>229</td>\n",
       "    </tr>\n",
       "    <tr>\n",
       "      <th>loyal_existing</th>\n",
       "      <td>5040</td>\n",
       "      <td>20.079681</td>\n",
       "      <td>251</td>\n",
       "    </tr>\n",
       "    <tr>\n",
       "      <th>new</th>\n",
       "      <td>10761</td>\n",
       "      <td>22.006135</td>\n",
       "      <td>489</td>\n",
       "    </tr>\n",
       "  </tbody>\n",
       "</table>\n",
       "</div>"
      ],
      "text/plain": [
       "                  sum       mean  count_nonzero\n",
       "user_class                                     \n",
       "error             631  20.354839             31\n",
       "existing         4932  21.537118            229\n",
       "loyal_existing   5040  20.079681            251\n",
       "new             10761  22.006135            489"
      ]
     },
     "execution_count": 193,
     "metadata": {},
     "output_type": "execute_result"
    }
   ],
   "source": [
    "df.groupby([\"user_class\"])[\"quantity_purchased\"].agg([np.sum, np.mean, np.count_nonzero])"
   ]
  },
  {
   "cell_type": "markdown",
   "metadata": {},
   "source": [
    "Acá podemos observar distintos datos según la user_class. agg ayuda a agregar los distintos datos que queremos observar. En este caso, los valores que no son ceros, la media y la sumatoria"
   ]
  },
  {
   "cell_type": "code",
   "execution_count": 201,
   "metadata": {},
   "outputs": [
    {
     "data": {
      "text/html": [
       "<div>\n",
       "<style scoped>\n",
       "    .dataframe tbody tr th:only-of-type {\n",
       "        vertical-align: middle;\n",
       "    }\n",
       "\n",
       "    .dataframe tbody tr th {\n",
       "        vertical-align: top;\n",
       "    }\n",
       "\n",
       "    .dataframe thead th {\n",
       "        text-align: right;\n",
       "    }\n",
       "</style>\n",
       "<table border=\"1\" class=\"dataframe\">\n",
       "  <thead>\n",
       "    <tr style=\"text-align: right;\">\n",
       "      <th></th>\n",
       "      <th></th>\n",
       "      <th>price</th>\n",
       "      <th>quantity_purchased</th>\n",
       "    </tr>\n",
       "    <tr>\n",
       "      <th>user_class</th>\n",
       "      <th>user_type</th>\n",
       "      <th></th>\n",
       "      <th></th>\n",
       "    </tr>\n",
       "  </thead>\n",
       "  <tbody>\n",
       "    <tr>\n",
       "      <th>error</th>\n",
       "      <th>n</th>\n",
       "      <td>2877.397742</td>\n",
       "      <td>40</td>\n",
       "    </tr>\n",
       "    <tr>\n",
       "      <th>existing</th>\n",
       "      <th>c</th>\n",
       "      <td>2442.807803</td>\n",
       "      <td>41</td>\n",
       "    </tr>\n",
       "    <tr>\n",
       "      <th>loyal_existing</th>\n",
       "      <th>d</th>\n",
       "      <td>2338.585679</td>\n",
       "      <td>41</td>\n",
       "    </tr>\n",
       "    <tr>\n",
       "      <th rowspan=\"2\" valign=\"top\">new</th>\n",
       "      <th>a</th>\n",
       "      <td>2261.044874</td>\n",
       "      <td>41</td>\n",
       "    </tr>\n",
       "    <tr>\n",
       "      <th>b</th>\n",
       "      <td>2297.958333</td>\n",
       "      <td>41</td>\n",
       "    </tr>\n",
       "  </tbody>\n",
       "</table>\n",
       "</div>"
      ],
      "text/plain": [
       "                                price  quantity_purchased\n",
       "user_class     user_type                                 \n",
       "error          n          2877.397742                  40\n",
       "existing       c          2442.807803                  41\n",
       "loyal_existing d          2338.585679                  41\n",
       "new            a          2261.044874                  41\n",
       "               b          2297.958333                  41"
      ]
     },
     "execution_count": 201,
     "metadata": {},
     "output_type": "execute_result"
    }
   ],
   "source": [
    "df.groupby([\"user_class\", \"user_type\"]).agg({\"price\": np.mean,\n",
    "                                            \"quantity_purchased\": np.max\n",
    "                                            })"
   ]
  },
  {
   "cell_type": "markdown",
   "metadata": {},
   "source": [
    "Acá se muestrarn distintos datos de interés donde se relacionan dos columnas diferentes: el user_class y el user_type"
   ]
  },
  {
   "cell_type": "markdown",
   "metadata": {},
   "source": [
    "# Visualization"
   ]
  },
  {
   "cell_type": "code",
   "execution_count": 223,
   "metadata": {},
   "outputs": [
    {
     "data": {
      "text/plain": [
       "Text(0.5, 1.0, 'Price Trends for Particular User')"
      ]
     },
     "execution_count": 223,
     "metadata": {},
     "output_type": "execute_result"
    },
    {
     "data": {
      "image/png": "[encoded data removed]",
      "text/plain": [
       "<Figure size 432x288 with 1 Axes>"
      ]
     },
     "metadata": {
      "needs_background": "light"
     },
     "output_type": "display_data"
    }
   ],
   "source": [
    "individual_user = df[df.user_id == 5801]\n",
    "individual_user_price = individual_user_price[[\"price\"]].fillna(individual_user_price.mean())\n",
    "\n",
    "individual_user_price.plot()\n",
    "plt.title(\"Price Trends for Particular User\")"
   ]
  },
  {
   "cell_type": "markdown",
   "metadata": {},
   "source": [
    "Acá vemos ploteada los diferentes precios para un usuario en particular"
   ]
  },
  {
   "cell_type": "code",
   "execution_count": 227,
   "metadata": {},
   "outputs": [
    {
     "data": {
      "text/plain": [
       "Text(0.5, 1.0, 'Prices trend according date')"
      ]
     },
     "execution_count": 227,
     "metadata": {},
     "output_type": "execute_result"
    },
    {
     "data": {
      "image/png": "[encoded data removed]",
      "text/plain": [
       "<Figure size 432x288 with 1 Axes>"
      ]
     },
     "metadata": {
      "needs_background": "light"
     },
     "output_type": "display_data"
    }
   ],
   "source": [
    "individual_user.plot(x=\"date\", y=\"price\", style=\"black\")\n",
    "plt.title(\"Prices trend according date\")"
   ]
  },
  {
   "cell_type": "markdown",
   "metadata": {},
   "source": [
    "Acá se pasa directamente la variable dependiente e independiente del dataset. Nos muestra la tendencia de los precios en relación al paso de las fechas."
   ]
  },
  {
   "cell_type": "code",
   "execution_count": 235,
   "metadata": {},
   "outputs": [
    {
     "data": {
      "text/plain": [
       "Text(0.5, 1.0, 'Quantities Purchased per Week')"
      ]
     },
     "execution_count": 235,
     "metadata": {},
     "output_type": "execute_result"
    },
    {
     "data": {
      "image/png": "[encoded data removed]",
      "text/plain": [
       "<Figure size 432x288 with 1 Axes>"
      ]
     },
     "metadata": {
      "needs_background": "light"
     },
     "output_type": "display_data"
    },
    {
     "data": {
      "image/png": "[encoded data removed]",
      "text/plain": [
       "<Figure size 432x288 with 1 Axes>"
      ]
     },
     "metadata": {
      "needs_background": "light"
     },
     "output_type": "display_data"
    }
   ],
   "source": [
    "df[[\"purchase_week\", \"quantity_purchased\"]].groupby(\"purchase_week\").sum().plot.bar(color=\"orange\")\n",
    "df[[\"purchase_week\", \"quantity_purchased\"]].groupby(\"purchase_week\").sum().plot.barh(color=\"red\")\n",
    "plt.title(\"Quantities Purchased per Week\")"
   ]
  },
  {
   "cell_type": "markdown",
   "metadata": {},
   "source": [
    "En este punto, se grafica la cantidad comprada en según la semana. Barh nos devuelve una gráfica de horizontal, y bar una vertical."
   ]
  },
  {
   "cell_type": "code",
   "execution_count": 237,
   "metadata": {},
   "outputs": [
    {
     "data": {
      "text/plain": [
       "Text(0.5, 1.0, 'Price distribution')"
      ]
     },
     "execution_count": 237,
     "metadata": {},
     "output_type": "execute_result"
    },
    {
     "data": {
      "image/png": "[encoded data removed]",
      "text/plain": [
       "<Figure size 432x288 with 1 Axes>"
      ]
     },
     "metadata": {
      "needs_background": "light"
     },
     "output_type": "display_data"
    }
   ],
   "source": [
    "df.price.hist(color=\"green\")\n",
    "plt.title(\"Price distribution\")"
   ]
  },
  {
   "cell_type": "markdown",
   "metadata": {},
   "source": [
    "con el método hist, nos permite graficar un histograma"
   ]
  },
  {
   "cell_type": "code",
   "execution_count": 241,
   "metadata": {},
   "outputs": [
    {
     "data": {
      "text/plain": [
       "Text(0.5, 1.0, 'Prices by weeks')"
      ]
     },
     "execution_count": 241,
     "metadata": {},
     "output_type": "execute_result"
    },
    {
     "data": {
      "image/png": "[encoded data removed]",
      "text/plain": [
       "<Figure size 432x288 with 20 Axes>"
      ]
     },
     "metadata": {
      "needs_background": "light"
     },
     "output_type": "display_data"
    }
   ],
   "source": [
    "df[[\"price\", \"purchase_week\"]].hist(by=\"purchase_week\", sharex=True)\n",
    "plt.title(\"Prices by weeks\")"
   ]
  },
  {
   "cell_type": "markdown",
   "metadata": {},
   "source": [
    "Acá se visualiza el precio en relación a las semanas."
   ]
  },
  {
   "cell_type": "code",
   "execution_count": 243,
   "metadata": {},
   "outputs": [
    {
     "data": {
      "image/png": "[encoded data removed]",
      "text/plain": [
       "<Figure size 432x288 with 1 Axes>"
      ]
     },
     "metadata": {},
     "output_type": "display_data"
    }
   ],
   "source": [
    "class_series = df.groupby(\"user_class\").size()\n",
    "class_series.name = \"User Class Distribution\"\n",
    "class_series.plot.pie(autopct=\"%.2f\")\n",
    "plt.title(\"User Class Share\")\n",
    "plt.show()"
   ]
  },
  {
   "cell_type": "markdown",
   "metadata": {},
   "source": [
    "En este snippet, graficamos un *pie chart* que nos indica la distribución de las clases de usuario, donde notamos que alrededor del 50% son nuevos usuarios."
   ]
  },
  {
   "cell_type": "code",
   "execution_count": 245,
   "metadata": {},
   "outputs": [
    {
     "data": {
      "text/plain": [
       "Text(0.5, 1.0, 'Quantity and Week value distribution')"
      ]
     },
     "execution_count": 245,
     "metadata": {},
     "output_type": "execute_result"
    },
    {
     "data": {
      "image/png": "[encoded data removed]",
      "text/plain": [
       "<Figure size 432x288 with 1 Axes>"
      ]
     },
     "metadata": {
      "needs_background": "light"
     },
     "output_type": "display_data"
    }
   ],
   "source": [
    "df[[\"quantity_purchased\", \"purchase_week\"]].plot.box()\n",
    "plt.title(\"Quantity and Week value distribution\")"
   ]
  },
  {
   "cell_type": "markdown",
   "metadata": {},
   "source": [
    "Este plot nos dice que el rando de semanas va desde 53 hasta 0, y que la mayoría de las compras fueron realizadas en la semana 10."
   ]
  },
  {
   "cell_type": "code",
   "execution_count": 261,
   "metadata": {},
   "outputs": [
    {
     "data": {
      "text/html": [
       "<div>\n",
       "<style scoped>\n",
       "    .dataframe tbody tr th:only-of-type {\n",
       "        vertical-align: middle;\n",
       "    }\n",
       "\n",
       "    .dataframe tbody tr th {\n",
       "        vertical-align: top;\n",
       "    }\n",
       "\n",
       "    .dataframe thead th {\n",
       "        text-align: right;\n",
       "    }\n",
       "</style>\n",
       "<table border=\"1\" class=\"dataframe\">\n",
       "  <thead>\n",
       "    <tr style=\"text-align: right;\">\n",
       "      <th></th>\n",
       "      <th>purchase_week</th>\n",
       "      <th>enc_uclass</th>\n",
       "      <th>price</th>\n",
       "      <th>total_transactions</th>\n",
       "    </tr>\n",
       "  </thead>\n",
       "  <tbody>\n",
       "    <tr>\n",
       "      <th>0</th>\n",
       "      <td>0</td>\n",
       "      <td>0</td>\n",
       "      <td>2682.090000</td>\n",
       "      <td>16</td>\n",
       "    </tr>\n",
       "    <tr>\n",
       "      <th>1</th>\n",
       "      <td>0</td>\n",
       "      <td>1</td>\n",
       "      <td>2304.148333</td>\n",
       "      <td>7</td>\n",
       "    </tr>\n",
       "    <tr>\n",
       "      <th>2</th>\n",
       "      <td>0</td>\n",
       "      <td>2</td>\n",
       "      <td>1627.740000</td>\n",
       "      <td>4</td>\n",
       "    </tr>\n",
       "    <tr>\n",
       "      <th>3</th>\n",
       "      <td>0</td>\n",
       "      <td>3</td>\n",
       "      <td>2756.120000</td>\n",
       "      <td>4</td>\n",
       "    </tr>\n",
       "    <tr>\n",
       "      <th>4</th>\n",
       "      <td>2</td>\n",
       "      <td>0</td>\n",
       "      <td>2913.630000</td>\n",
       "      <td>1</td>\n",
       "    </tr>\n",
       "  </tbody>\n",
       "</table>\n",
       "</div>"
      ],
      "text/plain": [
       "   purchase_week  enc_uclass        price  total_transactions\n",
       "0              0           0  2682.090000                  16\n",
       "1              0           1  2304.148333                   7\n",
       "2              0           2  1627.740000                   4\n",
       "3              0           3  2756.120000                   4\n",
       "4              2           0  2913.630000                   1"
      ]
     },
     "execution_count": 261,
     "metadata": {},
     "output_type": "execute_result"
    }
   ],
   "source": [
    "uclass_map = {\"new\": 1, \"existing\":2, \"loyal_existing\": 3, \"error\":0}\n",
    "df[\"enc_uclass\"] = df.user_class.map(uclass_map)\n",
    "bubble_df = df[[\"enc_uclass\", \n",
    "                \"purchase_week\", \n",
    "                \"price\", \n",
    "                \"product_id\"]].groupby(\n",
    "                        [\"purchase_week\", \"enc_uclass\"]).agg({\n",
    "                        \"price\": \"mean\",\n",
    "                        \"product_id\": \"count\"\n",
    "                    }).reset_index()\n",
    "bubble_df.rename(columns={\"product_id\": \"total_transactions\"}, inplace=True)\n",
    "\n",
    "bubble_df.head()"
   ]
  },
  {
   "cell_type": "markdown",
   "metadata": {},
   "source": [
    "Acá se realizan un par de transformaciones"
   ]
  },
  {
   "cell_type": "code",
   "execution_count": 263,
   "metadata": {},
   "outputs": [
    {
     "data": {
      "image/png": "[encoded data removed]",
      "text/plain": [
       "<Figure size 432x288 with 1 Axes>"
      ]
     },
     "metadata": {
      "needs_background": "light"
     },
     "output_type": "display_data"
    }
   ],
   "source": [
    "bubble_df.plot.scatter(x=\"purchase_week\",\n",
    "                       y=\"price\")\n",
    "plt.title(\"Purchase Week Vs Price \")\n",
    "plt.show()"
   ]
  },
  {
   "cell_type": "markdown",
   "metadata": {},
   "source": [
    "Se grafica un scatter que muestra el precio en relación a la semana de compra."
   ]
  },
  {
   "cell_type": "code",
   "execution_count": 266,
   "metadata": {},
   "outputs": [
    {
     "data": {
      "text/plain": [
       "Text(0.5, 1.0, 'Purchase week Vs Price Per User Class based on Tx')"
      ]
     },
     "execution_count": 266,
     "metadata": {},
     "output_type": "execute_result"
    },
    {
     "data": {
      "image/png": "[encoded data removed]",
      "text/plain": [
       "<Figure size 432x288 with 1 Axes>"
      ]
     },
     "metadata": {
      "needs_background": "light"
     },
     "output_type": "display_data"
    }
   ],
   "source": [
    "bubble_df.plot.scatter(x=\"purchase_week\",\n",
    "                       y=\"price\",\n",
    "                       c=bubble_df[\"enc_uclass\"],\n",
    "                       s=bubble_df[\"total_transactions\"]*10\n",
    "                      )\n",
    "plt.title(\"Purchase week Vs Price Per User Class based on Tx\")"
   ]
  },
  {
   "cell_type": "markdown",
   "metadata": {},
   "source": [
    "# Visualizing with Matplotlib"
   ]
  },
  {
   "cell_type": "code",
   "execution_count": 268,
   "metadata": {},
   "outputs": [],
   "source": [
    "x = np.linspace(-10, 10, 50)\n",
    "y = np.sin(x)\n"
   ]
  },
  {
   "cell_type": "code",
   "execution_count": 270,
   "metadata": {},
   "outputs": [
    {
     "data": {
      "text/plain": [
       "Text(0, 0.5, 'y-axis')"
      ]
     },
     "execution_count": 270,
     "metadata": {},
     "output_type": "execute_result"
    },
    {
     "data": {
      "image/png": "[encoded data removed]",
      "text/plain": [
       "<Figure size 432x288 with 1 Axes>"
      ]
     },
     "metadata": {
      "needs_background": "light"
     },
     "output_type": "display_data"
    }
   ],
   "source": [
    "plt.plot(x, y)\n",
    "plt.title(\"Sine Curve using matplotlib\")\n",
    "plt.xlabel(\"x-axis\")\n",
    "plt.ylabel(\"y-axis\")"
   ]
  },
  {
   "cell_type": "code",
   "execution_count": 271,
   "metadata": {},
   "outputs": [
    {
     "data": {
      "text/plain": [
       "Text(0, 0.5, 'y-label')"
      ]
     },
     "execution_count": 271,
     "metadata": {},
     "output_type": "execute_result"
    },
    {
     "data": {
      "image/png": "[encoded data removed]",
      "text/plain": [
       "<Figure size 432x288 with 1 Axes>"
      ]
     },
     "metadata": {
      "needs_background": "light"
     },
     "output_type": "display_data"
    },
    {
     "data": {
      "image/png": "[encoded data removed]",
      "text/plain": [
       "<Figure size 432x288 with 1 Axes>"
      ]
     },
     "metadata": {
      "needs_background": "light"
     },
     "output_type": "display_data"
    }
   ],
   "source": [
    "# first figure\n",
    "plt.figure(1)\n",
    "plt.plot(x, y)\n",
    "plt.title(\"Fig1: Sine Curve\")\n",
    "plt.xlabel(\"x-axis\")\n",
    "plt.ylabel(\"y-label\")\n",
    "\n",
    "# second figure\n",
    "plt.figure(2)\n",
    "y=np.cos(x)\n",
    "plt.plot(x, y)\n",
    "plt.title(\"Fig2: Cosine Curve\")\n",
    "plt.xlabel(\"x-axis\")\n",
    "plt.ylabel(\"y-label\")"
   ]
  },
  {
   "cell_type": "code",
   "execution_count": 273,
   "metadata": {},
   "outputs": [
    {
     "data": {
      "text/plain": [
       "[<matplotlib.lines.Line2D at 0x7f68ed424a60>]"
      ]
     },
     "execution_count": 273,
     "metadata": {},
     "output_type": "execute_result"
    },
    {
     "data": {
      "image/png": "[encoded data removed]",
      "text/plain": [
       "<Figure size 576x432 with 4 Axes>"
      ]
     },
     "metadata": {
      "needs_background": "light"
     },
     "output_type": "display_data"
    }
   ],
   "source": [
    "y = np.sin(x)\n",
    "figure_obj = plt.figure(figsize=(8,6))\n",
    "ax1 = figure_obj.add_subplot(2,2,1)\n",
    "ax1.plot(x,y)\n",
    "\n",
    "ax2 = figure_obj.add_subplot(2,2,2)\n",
    "ax3 = figure_obj.add_subplot(2,2,3)\n",
    "ax4 = figure_obj.add_subplot(2,2,4)\n",
    "\n",
    "ax4.plot(x+10, y)"
   ]
  },
  {
   "cell_type": "code",
   "execution_count": 275,
   "metadata": {},
   "outputs": [
    {
     "data": {
      "text/plain": [
       "[<matplotlib.lines.Line2D at 0x7f68ece4ad00>]"
      ]
     },
     "execution_count": 275,
     "metadata": {},
     "output_type": "execute_result"
    },
    {
     "data": {
      "image/png": "[encoded data removed]",
      "text/plain": [
       "<Figure size 576x432 with 2 Axes>"
      ]
     },
     "metadata": {
      "needs_background": "light"
     },
     "output_type": "display_data"
    }
   ],
   "source": [
    "fig, ax_list = plt.subplots(2,1,sharex=True,figsize=(8,6))\n",
    "y = np.sin(x)\n",
    "ax_list[0].plot(x, y)\n",
    "\n",
    "y = np.cos(x)\n",
    "ax_list[1].plot(x, y)"
   ]
  },
  {
   "cell_type": "code",
   "execution_count": 281,
   "metadata": {},
   "outputs": [
    {
     "data": {
      "text/plain": [
       "[<matplotlib.lines.Line2D at 0x7f68ec967100>]"
      ]
     },
     "execution_count": 281,
     "metadata": {},
     "output_type": "execute_result"
    },
    {
     "data": {
      "image/png": "[encoded data removed]",
      "text/plain": [
       "<Figure size 432x288 with 3 Axes>"
      ]
     },
     "metadata": {
      "needs_background": "light"
     },
     "output_type": "display_data"
    }
   ],
   "source": [
    "y = np.abs(x)\n",
    "z = x**2\n",
    "\n",
    "plt.subplot2grid((4,3), (0, 0), rowspan=4, colspan=2)\n",
    "plt.plot(x, y, \"b\", x, z, \"r\")\n",
    "\n",
    "ax2 = plt.subplot2grid((4,3), (0,2), rowspan=2)\n",
    "plt.plot(x, y, \"b\")\n",
    "plt.setp(ax2.get_xticklabels(), visible=False)\n",
    "\n",
    "plt.subplot2grid((4,3), (2,2), rowspan=2)\n",
    "plt.plot(x,z, \"r\")"
   ]
  },
  {
   "cell_type": "code",
   "execution_count": 287,
   "metadata": {},
   "outputs": [
    {
     "data": {
      "text/plain": [
       "[None, None, None, None, None, None, None, None, None, None]"
      ]
     },
     "execution_count": 287,
     "metadata": {},
     "output_type": "execute_result"
    },
    {
     "data": {
      "image/png": "[encoded data removed]",
      "text/plain": [
       "<Figure size 432x288 with 2 Axes>"
      ]
     },
     "metadata": {
      "needs_background": "light"
     },
     "output_type": "display_data"
    }
   ],
   "source": [
    "y = x\n",
    "\n",
    "# Color\n",
    "ax1 = plt.subplot(321)\n",
    "plt.plot(x, y, color=\"green\")\n",
    "ax1.set_title(\"Line color\")\n",
    "\n",
    "# Alpha\n",
    "ax2 = plt.subplot(322, sharex=ax1)\n",
    "alpha = plt.plot(x,y)\n",
    "alpha[0].set_alpha(.3)\n",
    "ax2.set_title(\"Line alpha\")\n",
    "plt.setp(ax2.get_yticklabels(), visible=False)"
   ]
  },
  {
   "cell_type": "code",
   "execution_count": 292,
   "metadata": {},
   "outputs": [
    {
     "data": {
      "text/plain": [
       "[None, None, None, None, None, None, None, None, None, None]"
      ]
     },
     "execution_count": 292,
     "metadata": {},
     "output_type": "execute_result"
    },
    {
     "data": {
      "image/png": "[encoded data removed]",
      "text/plain": [
       "<Figure size 432x288 with 2 Axes>"
      ]
     },
     "metadata": {
      "needs_background": "light"
     },
     "output_type": "display_data"
    }
   ],
   "source": [
    "# maker\n",
    "# markers -> +, o, *, s, ,, ., etc\n",
    "ax3 = plt.subplot(323, sharex=ax1)\n",
    "plt.plot(x,y,marker=\"*\")\n",
    "ax3.set_title(\"Point Marker\")\n",
    "\n",
    "# linestyle\n",
    "# linestyles -> -, --, -., :, steps\n",
    "ax4 = plt.subplot(324, sharex=ax1)\n",
    "plt.plot(x,y,linestyle=\":\")\n",
    "ax4.set_title(\"Line style\")\n",
    "plt.setp(ax4.get_yticklabels(), visible=False)"
   ]
  },
  {
   "cell_type": "code",
   "execution_count": 293,
   "metadata": {},
   "outputs": [
    {
     "data": {
      "text/plain": [
       "Text(0.5, 1.0, 'Legend sample')"
      ]
     },
     "execution_count": 293,
     "metadata": {},
     "output_type": "execute_result"
    },
    {
     "data": {
      "image/png": "[encoded data removed]",
      "text/plain": [
       "<Figure size 432x288 with 1 Axes>"
      ]
     },
     "metadata": {
      "needs_background": "light"
     },
     "output_type": "display_data"
    }
   ],
   "source": [
    "plt.plot(x, y, \"g\", label=\"y=x**2\")\n",
    "plt.plot(x,z, \"b:\", label=\"y=x\")\n",
    "plt.legend(loc=\"best\")\n",
    "plt.title(\"Legend sample\")"
   ]
  },
  {
   "cell_type": "code",
   "execution_count": 295,
   "metadata": {},
   "outputs": [
    {
     "data": {
      "text/plain": [
       "Text(0.5, 1.0, 'Legend with $LaTEX$ formatting')"
      ]
     },
     "execution_count": 295,
     "metadata": {},
     "output_type": "execute_result"
    },
    {
     "data": {
      "image/png": "[encoded data removed]",
      "text/plain": [
       "<Figure size 432x288 with 1 Axes>"
      ]
     },
     "metadata": {
      "needs_background": "light"
     },
     "output_type": "display_data"
    }
   ],
   "source": [
    "# legend with latex formatting\n",
    "plt.plot(x,y,\"g\", label=\"$y = x^2$\")\n",
    "plt.plot(x,z,\"b:\", linewidth=3, label=\"$y = x^2$\")\n",
    "plt.legend(loc=\"best\", fontsize=\"x-large\")\n",
    "plt.title(\"Legend with $LaTEX$ formatting\")"
   ]
  },
  {
   "cell_type": "code",
   "execution_count": 297,
   "metadata": {},
   "outputs": [
    {
     "data": {
      "text/plain": [
       "Text(0.5, 1.0, 'Secondary Y Axis')"
      ]
     },
     "execution_count": 297,
     "metadata": {},
     "output_type": "execute_result"
    },
    {
     "data": {
      "image/png": "[encoded data removed]",
      "text/plain": [
       "<Figure size 432x288 with 2 Axes>"
      ]
     },
     "metadata": {
      "needs_background": "light"
     },
     "output_type": "display_data"
    }
   ],
   "source": [
    "fig, ax1 = plt.subplots()\n",
    "ax1.plot(x,y,\"g\")\n",
    "ax1.set_ylabel(r\"primary y-axis\", color=\"green\")\n",
    "\n",
    "ax2 = ax1.twinx()\n",
    "ax2.plot(x,z, \"b:\", linewidth=3)\n",
    "ax2.set_ylabel(r\"secondary y-axis\", color=\"blue\")\n",
    "\n",
    "plt.title(\"Secondary Y Axis\")"
   ]
  },
  {
   "cell_type": "code",
   "execution_count": 299,
   "metadata": {},
   "outputs": [
    {
     "name": "stderr",
     "output_type": "stream",
     "text": [
      "<ipython-input-299-e79e44186bd1>:2: RuntimeWarning: invalid value encountered in log\n",
      "  y = np.log(x)\n",
      "<ipython-input-299-e79e44186bd1>:3: RuntimeWarning: invalid value encountered in log2\n",
      "  z = np.log2(x)\n",
      "<ipython-input-299-e79e44186bd1>:4: RuntimeWarning: invalid value encountered in log10\n",
      "  w = np.log10(x)\n"
     ]
    },
    {
     "data": {
      "text/plain": [
       "Text(0.5, 1.0, 'Manual Axis Range')"
      ]
     },
     "execution_count": 299,
     "metadata": {},
     "output_type": "execute_result"
    },
    {
     "data": {
      "image/png": "[encoded data removed]",
      "text/plain": [
       "<Figure size 432x288 with 1 Axes>"
      ]
     },
     "metadata": {
      "needs_background": "light"
     },
     "output_type": "display_data"
    }
   ],
   "source": [
    "# manual\n",
    "y = np.log(x)\n",
    "z = np.log2(x)\n",
    "w = np.log10(x)\n",
    "\n",
    "plt.plot(x, y, \"r\", x, z, \"g\", x, w, \"b\")\n",
    "plt.axis([0, 2, -1, 2])\n",
    "plt.title(\"Manual Axis Range\")"
   ]
  },
  {
   "cell_type": "code",
   "execution_count": 302,
   "metadata": {},
   "outputs": [
    {
     "data": {
      "text/plain": [
       "Text(0.5, 1.0, 'Manual Ticks on the x-axis')"
      ]
     },
     "execution_count": 302,
     "metadata": {},
     "output_type": "execute_result"
    },
    {
     "data": {
      "image/png": "[encoded data removed]",
      "text/plain": [
       "<Figure size 432x288 with 1 Axes>"
      ]
     },
     "metadata": {
      "needs_background": "light"
     },
     "output_type": "display_data"
    }
   ],
   "source": [
    "# manual ticks\n",
    "plt.plot(x, y)\n",
    "ax = plt.gca()\n",
    "\n",
    "ax.xaxis.set_ticks(np.arange(-2, 2, 1))\n",
    "\n",
    "ax.yaxis.set_ticks(np.arange(0, 5))\n",
    "ax.yaxis.set_ticklabels([\"min\", 2, 4, \"max\"])\n",
    "\n",
    "plt.grid(True)\n",
    "plt.title(\"Manual Ticks on the x-axis\")"
   ]
  },
  {
   "cell_type": "code",
   "execution_count": 304,
   "metadata": {},
   "outputs": [
    {
     "data": {
      "text/plain": [
       "Text(0.5, 1.0, 'Log Scaled Axis')"
      ]
     },
     "execution_count": 304,
     "metadata": {},
     "output_type": "execute_result"
    },
    {
     "data": {
      "image/png": "[encoded data removed]",
      "text/plain": [
       "<Figure size 432x288 with 1 Axes>"
      ]
     },
     "metadata": {
      "needs_background": "light"
     },
     "output_type": "display_data"
    }
   ],
   "source": [
    "# scaling\n",
    "plt.plot(x, y)\n",
    "ax = plt.gca()\n",
    "\n",
    "# values: log, logit, symlog\n",
    "ax.set_yscale(\"log\")\n",
    "plt.grid(True)\n",
    "plt.title(\"Log Scaled Axis\")"
   ]
  },
  {
   "cell_type": "code",
   "execution_count": 305,
   "metadata": {},
   "outputs": [
    {
     "data": {
      "text/plain": [
       "Text(0.5, 1.0, 'Annotated Plot')"
      ]
     },
     "execution_count": 305,
     "metadata": {},
     "output_type": "execute_result"
    },
    {
     "data": {
      "image/png": "[encoded data removed]",
      "text/plain": [
       "<Figure size 432x288 with 1 Axes>"
      ]
     },
     "metadata": {
      "needs_background": "light"
     },
     "output_type": "display_data"
    }
   ],
   "source": [
    "# annotations\n",
    "y = x**2\n",
    "min_x = 0\n",
    "min_y = min_x**2\n",
    "\n",
    "plt.plot(x, y, \"b-\", min_x, min_y, \"ro\")\n",
    "plt.axis([-10, 10, -25, 100])\n",
    "\n",
    "plt.text(0, 60, \"Parabola \\n $y = x^2$\", fontsize=15, ha=\"center\")\n",
    "plt.text(min_x, min_y+2, \"Minima\", ha=\"center\")\n",
    "plt.text(min_x, min_y-6, \"(%0.1f, %0.1f)\"%(min_x, min_y), ha=\"center\", color=\"gray\")\n",
    "plt.title(\"Annotated Plot\")"
   ]
  }
 ],
 "metadata": {
  "kernelspec": {
   "display_name": "Python 3",
   "language": "python",
   "name": "python3"
  },
  "language_info": {
   "codemirror_mode": {
    "name": "ipython",
    "version": 3
   },
   "file_extension": ".py",
   "mimetype": "text/x-python",
   "name": "python",
   "nbconvert_exporter": "python",
   "pygments_lexer": "ipython3",
   "version": "3.8.3"
  }
 },
 "nbformat": 4,
 "nbformat_minor": 4
}
