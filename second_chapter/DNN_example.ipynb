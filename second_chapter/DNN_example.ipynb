{
 "cells": [
  {
   "cell_type": "code",
   "execution_count": 1,
   "metadata": {},
   "outputs": [],
   "source": [
    "import numpy as np\n",
    "\n",
    "from keras.models import Sequential\n",
    "from keras.layers import Dense, Dropout\n",
    "\n",
    "from sklearn.datasets import load_breast_cancer\n",
    "from sklearn.model_selection import train_test_split\n",
    "from sklearn import metrics"
   ]
  },
  {
   "cell_type": "code",
   "execution_count": 2,
   "metadata": {},
   "outputs": [],
   "source": [
    "cancer = load_breast_cancer()\n",
    "\n",
    "X_train, X_test, y_train, y_test = train_test_split(cancer.data, cancer.target, test_size=.3, random_state=42)\n",
    "\n",
    "model = Sequential()\n",
    "model.add(Dense(15, input_dim=30, activation=\"relu\"))\n",
    "model.add(Dense(15, activation=\"relu\"))\n",
    "model.add(Dense(15, activation=\"relu\"))\n",
    "model.add(Dense(1, activation=\"sigmoid\"))"
   ]
  },
  {
   "cell_type": "markdown",
   "metadata": {},
   "source": [
    "Acá es lo mismo que con la ANN normal, pero con la diferencia de que ahora se agregan más *hidden layers*"
   ]
  },
  {
   "cell_type": "code",
   "execution_count": 3,
   "metadata": {},
   "outputs": [
    {
     "name": "stdout",
     "output_type": "stream",
     "text": [
      "Epoch 1/20\n",
      "8/8 [==============================] - 0s 1ms/step - loss: 62.4684 - accuracy: 0.6256\n",
      "Epoch 2/20\n",
      "8/8 [==============================] - 0s 868us/step - loss: 15.9510 - accuracy: 0.6432\n",
      "Epoch 3/20\n",
      "8/8 [==============================] - 0s 842us/step - loss: 0.4187 - accuracy: 0.8643\n",
      "Epoch 4/20\n",
      "8/8 [==============================] - 0s 827us/step - loss: 0.4427 - accuracy: 0.8291\n",
      "Epoch 5/20\n",
      "8/8 [==============================] - 0s 1ms/step - loss: 0.9149 - accuracy: 0.6884\n",
      "Epoch 6/20\n",
      "8/8 [==============================] - 0s 808us/step - loss: 0.7806 - accuracy: 0.7663\n",
      "Epoch 7/20\n",
      "8/8 [==============================] - 0s 797us/step - loss: 0.4391 - accuracy: 0.8467\n",
      "Epoch 8/20\n",
      "8/8 [==============================] - 0s 806us/step - loss: 0.9416 - accuracy: 0.7312\n",
      "Epoch 9/20\n",
      "8/8 [==============================] - 0s 794us/step - loss: 0.7399 - accuracy: 0.7613\n",
      "Epoch 10/20\n",
      "8/8 [==============================] - 0s 822us/step - loss: 0.6523 - accuracy: 0.7789\n",
      "Epoch 11/20\n",
      "8/8 [==============================] - 0s 800us/step - loss: 0.4463 - accuracy: 0.8417\n",
      "Epoch 12/20\n",
      "8/8 [==============================] - 0s 824us/step - loss: 0.8879 - accuracy: 0.7764\n",
      "Epoch 13/20\n",
      "8/8 [==============================] - 0s 790us/step - loss: 0.5936 - accuracy: 0.8166\n",
      "Epoch 14/20\n",
      "8/8 [==============================] - 0s 831us/step - loss: 0.7322 - accuracy: 0.7613\n",
      "Epoch 15/20\n",
      "8/8 [==============================] - 0s 808us/step - loss: 0.5163 - accuracy: 0.8266\n",
      "Epoch 16/20\n",
      "8/8 [==============================] - 0s 821us/step - loss: 0.9204 - accuracy: 0.7588\n",
      "Epoch 17/20\n",
      "8/8 [==============================] - 0s 810us/step - loss: 0.7294 - accuracy: 0.7764\n",
      "Epoch 18/20\n",
      "8/8 [==============================] - 0s 834us/step - loss: 0.5180 - accuracy: 0.8191\n",
      "Epoch 19/20\n",
      "8/8 [==============================] - 0s 788us/step - loss: 0.4267 - accuracy: 0.8342\n",
      "Epoch 20/20\n",
      "8/8 [==============================] - 0s 811us/step - loss: 0.7618 - accuracy: 0.7789\n",
      "WARNING:tensorflow:From <ipython-input-3-91dec062c1bf>:5: Sequential.predict_classes (from tensorflow.python.keras.engine.sequential) is deprecated and will be removed after 2021-01-01.\n",
      "Instructions for updating:\n",
      "Please use instead:* `np.argmax(model.predict(x), axis=-1)`,   if your model does multi-class classification   (e.g. if it uses a `softmax` last-layer activation).* `(model.predict(x) > 0.5).astype(\"int32\")`,   if your model does binary classification   (e.g. if it uses a `sigmoid` last-layer activation).\n",
      "Accuracy:  0.9473684210526315\n",
      "              precision    recall  f1-score   support\n",
      "\n",
      "           0       0.95      0.90      0.93        63\n",
      "           1       0.95      0.97      0.96       108\n",
      "\n",
      "    accuracy                           0.95       171\n",
      "   macro avg       0.95      0.94      0.94       171\n",
      "weighted avg       0.95      0.95      0.95       171\n",
      "\n"
     ]
    }
   ],
   "source": [
    "model.compile(loss=\"binary_crossentropy\", optimizer=\"rmsprop\", metrics=[\"accuracy\"])\n",
    "\n",
    "model.fit(X_train, y_train, epochs=20, batch_size=50)\n",
    "\n",
    "predictions = model.predict_classes(X_test)\n",
    "print(\"Accuracy: \", metrics.accuracy_score(y_true=y_test, y_pred=predictions))\n",
    "print(metrics.classification_report(y_true=y_test, y_pred=predictions))"
   ]
  },
  {
   "cell_type": "markdown",
   "metadata": {},
   "source": [
    "Como se puede notar, las métricas en relación a la ANN mejoraron bastante. Con un accuracy el .95."
   ]
  }
 ],
 "metadata": {
  "kernelspec": {
   "display_name": "Python 3",
   "language": "python",
   "name": "python3"
  },
  "language_info": {
   "codemirror_mode": {
    "name": "ipython",
    "version": 3
   },
   "file_extension": ".py",
   "mimetype": "text/x-python",
   "name": "python",
   "nbconvert_exporter": "python",
   "pygments_lexer": "ipython3",
   "version": "3.8.3"
  }
 },
 "nbformat": 4,
 "nbformat_minor": 4
}
