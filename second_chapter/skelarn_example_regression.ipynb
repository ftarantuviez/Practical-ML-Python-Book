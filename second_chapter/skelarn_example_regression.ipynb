{
 "cells": [
  {
   "cell_type": "code",
   "execution_count": 1,
   "metadata": {},
   "outputs": [],
   "source": [
    "import pandas as pd\n",
    "from sklearn import datasets\n",
    "from sklearn.linear_model import Lasso\n",
    "import numpy as np\n",
    "from sklearn.model_selection import GridSearchCV"
   ]
  },
  {
   "cell_type": "code",
   "execution_count": 2,
   "metadata": {},
   "outputs": [],
   "source": [
    "diabetes = datasets.load_diabetes()\n",
    "y = diabetes.target\n",
    "X = diabetes.data\n",
    "\n",
    "feature_names = [\"age\", \"sex\", \"bmi\", \"bp\", \"s1\", \"s2\", \"s3\", \"s4\", \"s5\", \"s6\"]\n",
    "\n",
    "X_train = X[:310]\n",
    "y_train = y[:310]\n",
    "\n",
    "X_test = X[310:]\n",
    "y_test = y[310:]"
   ]
  },
  {
   "cell_type": "code",
   "execution_count": 8,
   "metadata": {},
   "outputs": [],
   "source": [
    "lasso = Lasso(random_state=0)\n",
    "alphas = np.logspace(-4, -.5, 30)"
   ]
  },
  {
   "cell_type": "markdown",
   "metadata": {},
   "source": [
    "Acá se inicializa el estimador Lasso, y se crean distintos \"alphas\" para el mismo que posteriormente se utilizarán con la finalidad de buscar el óptimo de estos. Es decir que este parámetro controla que tan estricto es la penalización.\n",
    "Lasso lo que hace es tratar de penalizar los features que menos relevantes son, y así quedarse con solo los que importan directamente con los resultados a predecir."
   ]
  },
  {
   "cell_type": "code",
   "execution_count": 9,
   "metadata": {},
   "outputs": [
    {
     "data": {
      "text/plain": [
       "GridSearchCV(estimator=Lasso(random_state=0),\n",
       "             param_grid={'alpha': array([1.00000000e-04, 1.32035178e-04, 1.74332882e-04, 2.30180731e-04,\n",
       "       3.03919538e-04, 4.01280703e-04, 5.29831691e-04, 6.99564216e-04,\n",
       "       9.23670857e-04, 1.21957046e-03, 1.61026203e-03, 2.12611233e-03,\n",
       "       2.80721620e-03, 3.70651291e-03, 4.89390092e-03, 6.46167079e-03,\n",
       "       8.53167852e-03, 1.12648169e-02, 1.48735211e-02, 1.96382800e-02,\n",
       "       2.59294380e-02, 3.42359796e-02, 4.52035366e-02, 5.96845700e-02,\n",
       "       7.88046282e-02, 1.04049831e-01, 1.37382380e-01, 1.81393069e-01,\n",
       "       2.39502662e-01, 3.16227766e-01])})"
      ]
     },
     "execution_count": 9,
     "metadata": {},
     "output_type": "execute_result"
    }
   ],
   "source": [
    "estimator = GridSearchCV(lasso, dict(alpha=alphas))\n",
    "estimator.fit(X_train, y_train)"
   ]
  },
  {
   "cell_type": "markdown",
   "metadata": {},
   "source": [
    "En este punto se inicializa el GridSearchCV, el cual usará el estimador lasso múltiples veces con los distintos parámetros que se le pasan a continuación, con la finalidad de devolver el más optimo.\n",
    "A menor alpha, mayor penalización a los no relevantes features."
   ]
  },
  {
   "cell_type": "code",
   "execution_count": 24,
   "metadata": {},
   "outputs": [
    {
     "name": "stdout",
     "output_type": "stream",
     "text": [
      "Lasso(alpha=0.07880462815669913, random_state=0)\n",
      "0.46170948106181964\n"
     ]
    }
   ],
   "source": [
    "print(estimator.best_estimator_)\n",
    "print(estimator.best_score_)"
   ]
  },
  {
   "cell_type": "markdown",
   "metadata": {},
   "source": [
    "De el estimador podemos extraer el best_estimator, que básicamente son los parámetros que mejor se ajustan al modelo. (en este caso el mejor alpha)\n",
    "Y el best_score que nos dice el score del mejor estimador"
   ]
  },
  {
   "cell_type": "code",
   "execution_count": 25,
   "metadata": {},
   "outputs": [
    {
     "data": {
      "text/plain": [
       "array([199.93864949, 178.15721853, 123.03190244, 212.49049201,\n",
       "       171.7225727 , 118.00948701, 201.00114035, 170.21721531,\n",
       "       163.34131121, 183.90933367, 190.88238488, 278.22988324,\n",
       "       288.52365106, 233.6560703 , 206.83259982, 227.77107101,\n",
       "       156.62884613, 222.71162783, 187.99029083, 104.47239575,\n",
       "       169.94555578, 110.98338081, 282.0855266 , 176.77816916,\n",
       "        80.93962648,  87.75752311, 251.78458672, 163.64725803,\n",
       "       123.67641457, 157.33359183, 160.41494649, 180.74753017,\n",
       "       163.06411793, 154.46342209, 145.51419402, 130.61730734,\n",
       "       188.10792017, 108.33007609, 128.07146849,  90.08085621,\n",
       "       248.91715304,  86.45376283,  59.61600068, 189.70269521,\n",
       "       208.04229933, 129.45568293,  95.70956072, 200.75788665,\n",
       "        56.99031227, 169.76616519, 190.24966488, 120.81802108,\n",
       "       227.80814   , 157.06636369, 158.42570567, 162.67629743,\n",
       "       259.95041168, 259.48001858, 204.01293884, 182.123241  ,\n",
       "        63.63372524, 213.62386558, 111.77752804, 137.49076698,\n",
       "       124.16708262, 174.44755725, 216.33448735, 162.79299985,\n",
       "       161.82578325, 127.17004738, 167.35904528,  75.4554693 ,\n",
       "       260.30845012, 116.34956035, 122.6553057 , 132.94756744,\n",
       "       109.75765463, 100.47894717, 158.53247665,  85.30643234,\n",
       "       264.87684001,  58.61045913, 104.29463271, 102.6065395 ,\n",
       "       272.04469725, 166.26531648,  67.83740342, 179.98936213,\n",
       "       178.150112  , 190.47457352, 175.34377787,  92.20309662,\n",
       "       143.27314678, 253.80645133, 192.60051339, 267.96728908,\n",
       "        53.83673361, 179.13306017, 195.48590882, 168.38199246,\n",
       "       163.87942899, 155.18853103, 227.5149916 , 126.36648874,\n",
       "       172.28988033, 168.62886155, 217.94877457, 157.43914826,\n",
       "       108.58118034,  82.59073608, 136.95911137, 189.69314687,\n",
       "       205.92799069, 143.45474688, 168.97479848, 109.38228304,\n",
       "       161.47907551, 129.40616539, 258.71750266, 106.18166205,\n",
       "       115.84726936, 118.96254791, 224.00714909,  65.79041584,\n",
       "       135.56554486, 120.42682683,  57.21487261, 190.34922249,\n",
       "       112.70167093, 121.77117055, 209.03191835,  59.59986839])"
      ]
     },
     "execution_count": 25,
     "metadata": {},
     "output_type": "execute_result"
    }
   ],
   "source": [
    "estimator.predict(X_test)"
   ]
  },
  {
   "cell_type": "markdown",
   "metadata": {},
   "source": [
    "Y acá, simplemente predecimos con datos desconocidos y de prueba."
   ]
  },
  {
   "cell_type": "code",
   "execution_count": null,
   "metadata": {},
   "outputs": [],
   "source": []
  }
 ],
 "metadata": {
  "kernelspec": {
   "display_name": "Python 3",
   "language": "python",
   "name": "python3"
  },
  "language_info": {
   "codemirror_mode": {
    "name": "ipython",
    "version": 3
   },
   "file_extension": ".py",
   "mimetype": "text/x-python",
   "name": "python",
   "nbconvert_exporter": "python",
   "pygments_lexer": "ipython3",
   "version": "3.8.3"
  }
 },
 "nbformat": 4,
 "nbformat_minor": 4
}
