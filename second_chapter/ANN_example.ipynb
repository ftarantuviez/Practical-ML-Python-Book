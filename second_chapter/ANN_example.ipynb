{
 "cells": [
  {
   "cell_type": "code",
   "execution_count": 2,
   "metadata": {},
   "outputs": [],
   "source": [
    "import numpy as np\n",
    "from keras.models import Sequential\n",
    "from keras.layers import Dense, Dropout"
   ]
  },
  {
   "cell_type": "markdown",
   "metadata": {},
   "source": [
    "Un modelo de keras puede ser secuencial o functional. Que sea secuencial quiere decir que es un modelo relativamente básico sin muchos features."
   ]
  },
  {
   "cell_type": "code",
   "execution_count": 3,
   "metadata": {},
   "outputs": [],
   "source": [
    "from sklearn.datasets import load_breast_cancer\n",
    "from sklearn.model_selection import train_test_split\n",
    "from sklearn import metrics"
   ]
  },
  {
   "cell_type": "markdown",
   "metadata": {},
   "source": [
    "Acá se importa el dataset load_breast_cancer ya que la finalidad de este modelo es predecir si es un cáncer benigno o un cáncer maligno."
   ]
  },
  {
   "cell_type": "code",
   "execution_count": 5,
   "metadata": {},
   "outputs": [],
   "source": [
    "cancer = load_breast_cancer()\n",
    "\n",
    "X_train, X_test, y_train, y_test = train_test_split(cancer.data, cancer.target, test_size=.3, random_state=42)"
   ]
  },
  {
   "cell_type": "code",
   "execution_count": 6,
   "metadata": {},
   "outputs": [],
   "source": [
    "model = Sequential()\n",
    "model.add(Dense(15, input_dim=30, activation=\"relu\"))\n",
    "model.add(Dense(1, activation=\"sigmoid\"))"
   ]
  },
  {
   "cell_type": "markdown",
   "metadata": {},
   "source": [
    "En este punto se inicializa nuestro modelo **secuencial** sin ningún parámetro que no sea default.\n",
    "Luego, añadimos un layer que va a contener 15 neuronas, y nosotros tenemos 30 atributos, es decir una neurona cada dos features.\n",
    "El **Dense** layer significa que es *fully connected* layer. Entonces en este caso particular, cada neurona estará totalmente conectada a los 30 features de input.\n",
    "Luego, tendremos un *output layer* de una sola neurona, que tendrá como función de activación a la función sigmoid, la cual tomará el valor y lo convertirá en un valor binario (1, 0)\n"
   ]
  },
  {
   "cell_type": "code",
   "execution_count": 8,
   "metadata": {},
   "outputs": [],
   "source": [
    "model.compile(loss=\"binary_crossentropy\", optimizer=\"rmsprop\", metrics=[\"accuracy\"])"
   ]
  },
  {
   "cell_type": "markdown",
   "metadata": {},
   "source": [
    "Acá toca el segundo paso, la compilación. En este punto se pasan como parámteros la función de pérdida, el optimizador y la métrica que se evaluará.\n",
    "**binary_crossentropy** es la función standard para problemas de clasificación binaria.\n",
    "**rmsprop** es una actualización optimizada del algoritmo.\n",
    "**accuracy** mide la exactitud entre los valores"
   ]
  },
  {
   "cell_type": "code",
   "execution_count": 10,
   "metadata": {},
   "outputs": [
    {
     "name": "stdout",
     "output_type": "stream",
     "text": [
      "Epoch 1/20\n",
      "8/8 [==============================] - 0s 969us/step - loss: 110.3752 - accuracy: 0.6256\n",
      "Epoch 2/20\n",
      "8/8 [==============================] - 0s 694us/step - loss: 66.8577 - accuracy: 0.6256\n",
      "Epoch 3/20\n",
      "8/8 [==============================] - 0s 682us/step - loss: 37.2811 - accuracy: 0.6281\n",
      "Epoch 4/20\n",
      "8/8 [==============================] - 0s 647us/step - loss: 14.3750 - accuracy: 0.4774\n",
      "Epoch 5/20\n",
      "8/8 [==============================] - 0s 738us/step - loss: 9.0483 - accuracy: 0.2487\n",
      "Epoch 6/20\n",
      "8/8 [==============================] - 0s 781us/step - loss: 7.2179 - accuracy: 0.3015\n",
      "Epoch 7/20\n",
      "8/8 [==============================] - 0s 662us/step - loss: 6.0562 - accuracy: 0.3015\n",
      "Epoch 8/20\n",
      "8/8 [==============================] - 0s 677us/step - loss: 5.4722 - accuracy: 0.3794\n",
      "Epoch 9/20\n",
      "8/8 [==============================] - 0s 641us/step - loss: 4.4258 - accuracy: 0.4045\n",
      "Epoch 10/20\n",
      "8/8 [==============================] - 0s 1ms/step - loss: 3.9260 - accuracy: 0.4523\n",
      "Epoch 11/20\n",
      "8/8 [==============================] - 0s 664us/step - loss: 3.6382 - accuracy: 0.5276\n",
      "Epoch 12/20\n",
      "8/8 [==============================] - 0s 662us/step - loss: 3.1504 - accuracy: 0.5628\n",
      "Epoch 13/20\n",
      "8/8 [==============================] - 0s 656us/step - loss: 3.0606 - accuracy: 0.5704\n",
      "Epoch 14/20\n",
      "8/8 [==============================] - 0s 663us/step - loss: 2.6645 - accuracy: 0.5955\n",
      "Epoch 15/20\n",
      "8/8 [==============================] - 0s 638us/step - loss: 2.2564 - accuracy: 0.6307\n",
      "Epoch 16/20\n",
      "8/8 [==============================] - 0s 659us/step - loss: 2.4850 - accuracy: 0.6156\n",
      "Epoch 17/20\n",
      "8/8 [==============================] - 0s 645us/step - loss: 2.0989 - accuracy: 0.6633\n",
      "Epoch 18/20\n",
      "8/8 [==============================] - 0s 681us/step - loss: 1.7632 - accuracy: 0.7085\n",
      "Epoch 19/20\n",
      "8/8 [==============================] - 0s 673us/step - loss: 1.8982 - accuracy: 0.6809\n",
      "Epoch 20/20\n",
      "8/8 [==============================] - 0s 639us/step - loss: 1.8249 - accuracy: 0.6910\n"
     ]
    },
    {
     "data": {
      "text/plain": [
       "<tensorflow.python.keras.callbacks.History at 0x7f6fcc0274c0>"
      ]
     },
     "execution_count": 10,
     "metadata": {},
     "output_type": "execute_result"
    }
   ],
   "source": [
    "model.fit(X_train, y_train, epochs=20, batch_size=50)"
   ]
  },
  {
   "cell_type": "markdown",
   "metadata": {},
   "source": [
    "Acá se entrena al modelo y se pasan como parámetros: *Train features*, *Train outputs*, *epochs* y *batch_size*\n",
    "**epochs** indica la cantidad de veces que se va a realizar el *foward propagation* y *backward propagation* en el modelo\n",
    "**batch_size** dice de a cuantos datos ir pasando al modelo.\n",
    "Acá como resultados, podemos ver que el algoritmo a medida que se ejecuta (los *epochs*), va aprendiendo. El accuracy sube y la pérdida se ve reducida."
   ]
  },
  {
   "cell_type": "code",
   "execution_count": 14,
   "metadata": {},
   "outputs": [
    {
     "data": {
      "text/plain": [
       "array([[0],\n",
       "       [0],\n",
       "       [0],\n",
       "       [1],\n",
       "       [0],\n",
       "       [0],\n",
       "       [0],\n",
       "       [0],\n",
       "       [1],\n",
       "       [1],\n",
       "       [1],\n",
       "       [0],\n",
       "       [0],\n",
       "       [0],\n",
       "       [1],\n",
       "       [0],\n",
       "       [0],\n",
       "       [1],\n",
       "       [1],\n",
       "       [0],\n",
       "       [1],\n",
       "       [1],\n",
       "       [0],\n",
       "       [1],\n",
       "       [1],\n",
       "       [0],\n",
       "       [1],\n",
       "       [1],\n",
       "       [1],\n",
       "       [0],\n",
       "       [1],\n",
       "       [1],\n",
       "       [0],\n",
       "       [1],\n",
       "       [1],\n",
       "       [0],\n",
       "       [0],\n",
       "       [0],\n",
       "       [0],\n",
       "       [0],\n",
       "       [0],\n",
       "       [0],\n",
       "       [1],\n",
       "       [1],\n",
       "       [0],\n",
       "       [1],\n",
       "       [1],\n",
       "       [0],\n",
       "       [1],\n",
       "       [0],\n",
       "       [0],\n",
       "       [0],\n",
       "       [1],\n",
       "       [0],\n",
       "       [0],\n",
       "       [1],\n",
       "       [0],\n",
       "       [0],\n",
       "       [1],\n",
       "       [1],\n",
       "       [1],\n",
       "       [0],\n",
       "       [0],\n",
       "       [0],\n",
       "       [1],\n",
       "       [1],\n",
       "       [0],\n",
       "       [0],\n",
       "       [1],\n",
       "       [1],\n",
       "       [0],\n",
       "       [0],\n",
       "       [1],\n",
       "       [0],\n",
       "       [1],\n",
       "       [1],\n",
       "       [0],\n",
       "       [0],\n",
       "       [1],\n",
       "       [1],\n",
       "       [0],\n",
       "       [1],\n",
       "       [0],\n",
       "       [0],\n",
       "       [0],\n",
       "       [0],\n",
       "       [1],\n",
       "       [0],\n",
       "       [1],\n",
       "       [1],\n",
       "       [1],\n",
       "       [1],\n",
       "       [0],\n",
       "       [0],\n",
       "       [0],\n",
       "       [1],\n",
       "       [0],\n",
       "       [1],\n",
       "       [1],\n",
       "       [0],\n",
       "       [1],\n",
       "       [1],\n",
       "       [0],\n",
       "       [0],\n",
       "       [0],\n",
       "       [0],\n",
       "       [1],\n",
       "       [0],\n",
       "       [0],\n",
       "       [1],\n",
       "       [0],\n",
       "       [1],\n",
       "       [0],\n",
       "       [0],\n",
       "       [1],\n",
       "       [0],\n",
       "       [0],\n",
       "       [1],\n",
       "       [0],\n",
       "       [1],\n",
       "       [0],\n",
       "       [1],\n",
       "       [1],\n",
       "       [0],\n",
       "       [1],\n",
       "       [0],\n",
       "       [1],\n",
       "       [1],\n",
       "       [1],\n",
       "       [0],\n",
       "       [0],\n",
       "       [1],\n",
       "       [1],\n",
       "       [1],\n",
       "       [1],\n",
       "       [0],\n",
       "       [1],\n",
       "       [0],\n",
       "       [0],\n",
       "       [1],\n",
       "       [1],\n",
       "       [0],\n",
       "       [1],\n",
       "       [1],\n",
       "       [1],\n",
       "       [1],\n",
       "       [0],\n",
       "       [0],\n",
       "       [1],\n",
       "       [0],\n",
       "       [1],\n",
       "       [0],\n",
       "       [1],\n",
       "       [0],\n",
       "       [1],\n",
       "       [0],\n",
       "       [0],\n",
       "       [1],\n",
       "       [0],\n",
       "       [1],\n",
       "       [0],\n",
       "       [1],\n",
       "       [0],\n",
       "       [0],\n",
       "       [0],\n",
       "       [1],\n",
       "       [0],\n",
       "       [0],\n",
       "       [0],\n",
       "       [0],\n",
       "       [1]], dtype=int32)"
      ]
     },
     "execution_count": 14,
     "metadata": {},
     "output_type": "execute_result"
    }
   ],
   "source": [
    "predictions = model.predict_classes(X_test)\n",
    "predictions"
   ]
  },
  {
   "cell_type": "markdown",
   "metadata": {},
   "source": [
    "Acá utilizamos *predict_classes* para determinar las clases respectivas a cada predicción con los datos de prueba."
   ]
  },
  {
   "cell_type": "code",
   "execution_count": 15,
   "metadata": {},
   "outputs": [
    {
     "name": "stdout",
     "output_type": "stream",
     "text": [
      "Accuracy:  0.695906432748538\n",
      "              precision    recall  f1-score   support\n",
      "\n",
      "           0       0.56      0.81      0.66        63\n",
      "           1       0.85      0.63      0.72       108\n",
      "\n",
      "    accuracy                           0.70       171\n",
      "   macro avg       0.71      0.72      0.69       171\n",
      "weighted avg       0.74      0.70      0.70       171\n",
      "\n"
     ]
    }
   ],
   "source": [
    "print(\"Accuracy: \", metrics.accuracy_score(y_true=y_test, y_pred=predictions))\n",
    "print(metrics.classification_report(y_true=y_test, y_pred=predictions))"
   ]
  },
  {
   "cell_type": "markdown",
   "metadata": {},
   "source": [
    "Acá utilizamos el módulo de métricas de sklearn, donde el primero nos dice el accuracy comparando los resultados predichos por el modelo con los verdadeos.\n",
    "Y classification_report nos da unas métricas más detalladas, donde podemos observar que la precision para los pacientes que tienen cáncer maligno es del 85%, y con una cantidad de estos de 108 pacientes. Esto no son buenas métricas."
   ]
  },
  {
   "cell_type": "code",
   "execution_count": null,
   "metadata": {},
   "outputs": [],
   "source": []
  }
 ],
 "metadata": {
  "kernelspec": {
   "display_name": "Python 3",
   "language": "python",
   "name": "python3"
  },
  "language_info": {
   "codemirror_mode": {
    "name": "ipython",
    "version": 3
   },
   "file_extension": ".py",
   "mimetype": "text/x-python",
   "name": "python",
   "nbconvert_exporter": "python",
   "pygments_lexer": "ipython3",
   "version": "3.8.3"
  }
 },
 "nbformat": 4,
 "nbformat_minor": 4
}
